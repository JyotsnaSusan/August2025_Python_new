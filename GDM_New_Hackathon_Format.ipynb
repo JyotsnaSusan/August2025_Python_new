{
 "cells": [
  {
   "cell_type": "code",
   "execution_count": 1,
   "id": "0dadb170-826c-49d8-b62a-6cfcf7b19b6f",
   "metadata": {
    "tags": []
   },
   "outputs": [],
   "source": [
    "import pandas as pd\n",
    "import numpy as np\n",
    "import matplotlib.pyplot as plt\n",
    "import seaborn as sns\n",
    "\n",
    "import warnings\n",
    "warnings.simplefilter(\"ignore\", UserWarning)"
   ]
  },
  {
   "cell_type": "code",
   "execution_count": 2,
   "id": "ce2eee58-1fe5-459f-b187-b0053a400124",
   "metadata": {
    "tags": []
   },
   "outputs": [],
   "source": [
    "dfGDData=pd.read_excel(\"Gestational Diabetes Data.xlsx\",sheet_name = \"Data\")"
   ]
  },
  {
   "cell_type": "markdown",
   "id": "279c7ab5-1c9e-41b8-b4f7-ee906113a7a0",
   "metadata": {},
   "source": [
    "<p style=\"font-family: Cambria; text-align: center; font-size: 48px;\">  I. DATA PRE-PROCESSING</p>"
   ]
  },
  {
   "cell_type": "markdown",
   "id": "fb5fa62b-f1d1-462f-bf4e-c33dc75a215a",
   "metadata": {},
   "source": [
    "<p style=\"font-family: Cambria; font-size: 16px;\">\n",
    "  1. We removed all columns that could be derived from other columns through a simple calculation. For eg: <br>\n",
    "  GCT 1h value &gt;7.5mM,<br>\n",
    "  GCT 1h value &gt;7.5mM 10,<br>\n",
    "  GCT 1h value &gt;7.8mM 10<br>\n",
    "  Are all derived from the column 1h glucose. Therefore, only 1h glucose is needed in our final table. This reduces our final set of variables to a shorter, more readable list with no loss of information. The full list of removal under this category is given in the code below.\n",
    "</p>"
   ]
  },
  {
   "cell_type": "code",
   "execution_count": 3,
   "id": "25d0afd2-3e1a-4ba0-8b08-5f3b443b06ad",
   "metadata": {
    "tags": []
   },
   "outputs": [],
   "source": [
    "dfGDData.drop(columns=['GCT10 2', 'Height (m) V1','BMI V1','Smoking','Smoking 10 V1','White 10 V1','Previous GDM V1','Meds 10 V1','Age >30 10','BMI (kg/m2) V1 2','BMI>30','Obese 10','Overweight 10','Overweight 123','Hx GDM, glycosuria, 1st degree rel','GCT 10','25OHD checked','25OHD 10'],axis=1,inplace=True)\n",
    "dfGDData.drop(columns=['Ref to psych','V1 HbA1c (mmol/mol)','V1 HBa1C <48 mmol/mol','V1 Hb','V1 Creatinine', 'V1 ALT','V1 CRP','V1 PCR','GCT10 screening visit','GCT','GCT 1h value >7.5mM','GCT 1h value >7.2mM 10', 'GCT 1h value >7.5mM 10', 'GCT 1h value >7.8mM 10','GCT Ref to DNS?','GCT Ref to DNS 10','OGTT performed','OGTT 10 V3'],inplace=True)\n",
    "dfGDData.drop(columns=['OGTT 0h value high 10','OGTT 1h value high 10','OGTT 1h value high 10.1','OGTT values high','OGTT high 10','GCT 1h value >7.5mM 10.1','GCT OGTT high 10','OGTT Ref to DNS 10','GCT Ref to DNS 10.1','Ref to DNS 10','Miscarriage before 28/40 2','Withdrew before 28/40 2'],axis=1,inplace=True)\n",
    "dfGDData.drop(columns=['V3 GA','Miscarried <28/40','Miscarried >28/40','V3 HbA1c','V3 Hb','V3 Creat','V3 CRP', 'V3 U PCR','V3 AC <35 cm','AC >350mm 10','m Weight (kg) V1','m Weight (kg) V3','Weight change','Weight change (%)','systolic BP (mmHg) V1.1','systolic BP (mmHg) V3.1','sBP change','BP change (%)'],inplace=True)\n",
    "dfGDData.drop(columns=['HbA1c change','HbA1c change >3 mmol/mol 10','HbA1c Change (%)','HbA1c rise >10%','HbA1c rise >5%','Hb change','Hb change (%)','Creat change','Creat change (%)','V3 ALT.1','ALT change','ALT change (%)','CRP change','CRP change (%)','PCR change','PCR change (%)'],axis=1,inplace=True)\n",
    "dfGDData.drop(columns=['Date of Data Collection.1','Miscarriage','Lost to f/u', 'Nutrition 10','Glucose lowering therapies','Gestational hypertension','Pre-eclampsia','Eclampsia','HELLP','HELLP 10','Induction','Instrumentation 10','Date of Delivery','Miscarriage before 28/40 v2','Miscarriage.1','Miscarriage after 28/40'],inplace=True)\n",
    "dfGDData.drop(columns=['Still-birth 10','Birth Injury','Birth weight >4kg', 'BW >4kg 10', 'BW >4.5kg 10', 'BW <2.5kg 10','Brachial plexus injury','Plexus injury 10','Other nerve injury','Clavicular fracture','Humeral fracture','Skull fracture','Other birth injury'],axis=1,inplace=True)\n",
    "dfGDData.drop(columns=['Perinatal death', 'Perinatal death 10', 'Fetal hypoglycaemia', 'Fetal hypoglycaemia 10', 'Fetal jaundice', 'Fetal phototherapy','Surfactant use','RR>60 10', 'SCBU','Cong malformation','Spina bifida','Cleft palate','Cleft Lip','Hydrocephalus','Cardiac murmur', 'Cardiac anomaly', 'Tetralogy of Fallot','Transposition of Great arteries', 'Septal defect', 'Other cardiac anomaly'],inplace=True)\n",
    "dfGDData.drop(columns=['Caesarean','Screened 10 2'], inplace=True)\n",
    "dfGDData.drop(columns=['Cause of fetal death','V1 U creatinine','V3 U Creat','Date 25OHD result received','Date Form Signed','Date Prescription sent?','Shoulder dystocia'], inplace=True)\n",
    "dfGDData.drop(columns=['Screened 10 3','GDM screening performed? V2','Screening DNA','Screened 10','Date Screening','Screening DNA 2','DNA Visit 3 10','Miscarriage before 28/40','Withdrew before 28/40'], inplace=True)"
   ]
  },
  {
   "cell_type": "markdown",
   "id": "39a33fca-7796-4042-9e33-2b70e6c797d7",
   "metadata": {},
   "source": [
    "<p style=\"font-family: Cambria; font-size: 16px;\"> 2. Removed all columns showing treatments provided to the fetus after birth that no longer fall under the mothers medical history. <br>For eg: Fetal phototherapy 10  is a column indicating if phototherapy was provided for babies with jaundice. We chose to preserve the field indicating fetal jaundice, but any further treatment of the baby would not reflect on the health of the mother.\n",
    "All columns that fall into this category are removed in the code given below:\n"
   ]
  },
  {
   "cell_type": "code",
   "execution_count": null,
   "id": "2fda1c63-2e1c-4e59-9a76-ceaac3132149",
   "metadata": {
    "tags": []
   },
   "outputs": [],
   "source": [
    "dfGDData.drop(columns=[ 'Fetal phototherapy 10','Insulin/Metformin','List used','Vit D List used','GDM screening performed?'], inplace=True)"
   ]
  },
  {
   "cell_type": "markdown",
   "id": "cb0c8451-1881-46aa-813f-f9b5fbf84bfc",
   "metadata": {},
   "source": [
    "3.Removed all columns that which did not relate directly or indirectly to the presence of high blood sugar or GDM. For eg: Number obstetric clinics might be useful in a larger dataset that shows that patients were more likely to get diagnosed and treated early, if there are clinics nearby. However, in our dataset, no such meaningful correlations seemed to exist"
   ]
  },
  {
   "cell_type": "code",
   "execution_count": 6,
   "id": "772b6f9f-0acc-4a28-a92c-7d4fcd0a789f",
   "metadata": {
    "tags": []
   },
   "outputs": [],
   "source": [
    "dfGDData.drop(columns=['Miscarried 10'], inplace=True)\n",
    "dfGDData.drop(columns=['Number obstetric clinics'], inplace=True)\n",
    "dfGDData.drop(columns=['OGTT Ref to DNS'], inplace=True)\n",
    "dfGDData.drop(columns=['PMHx V1'], inplace=True)\n",
    "dfGDData.drop(columns=['Ref to Psych'], inplace=True)\n",
    "dfGDData.drop(columns=['25OHD checked yes (1) or no (0)'], inplace=True)\n",
    "dfGDData.drop(columns=['Date of Data Collection'], inplace=True)\n",
    "dfGDData.drop(columns=['V3 Albumin'], inplace=True)"
   ]
  },
  {
   "cell_type": "markdown",
   "id": "ec0a0c3a-9f4d-4ddf-ab32-28a5c74fbe5c",
   "metadata": {},
   "source": [
    "4.Removed Alcohol intake V1 because of insufficient data with only one patient reported we can remove this column.\n"
   ]
  },
  {
   "cell_type": "code",
   "execution_count": 7,
   "id": "719153f5-b728-4a1e-b8f9-20beb1baa7ea",
   "metadata": {
    "tags": []
   },
   "outputs": [],
   "source": [
    "#Dropping unnecessary columns\n",
    "dfGDData.drop(['Alcohol Intake V1','Number GDM clinics'], axis=1,inplace=True)"
   ]
  },
  {
   "cell_type": "markdown",
   "id": "7ac05cdb-7d0c-420c-b939-c845626b3aea",
   "metadata": {
    "tags": []
   },
   "source": [
    "num_columns = dfGDData.shape[1]\n",
    "print(f\"Number of columns: {num_columns}\")"
   ]
  },
  {
   "cell_type": "markdown",
   "id": "8b29c8f4-7c7d-42d4-9144-41fe75abde3d",
   "metadata": {},
   "source": [
    "5.Renamed  these columns as the original column names are verbose and inconsistent, so  standardizing them to cleaner, shorter, more technical identifiers. \n",
    "    'EDD in keeping with LMP?': 'EDDEqLMP',\n",
    "    'EDD estimation method': 'EDDMethod',\n",
    "    'LSCS 10': 'Caesarean',\n",
    "    'Ethnicity V1': 'Ethnicity',\n",
    "    'Fetal jaundice 10': 'FetalJaundice',\n",
    "    '1h glucose': 'Glucose_1h',\n",
    "    'GHP 10': 'GestationalHP',\n",
    "    'Glucose lowering therapy 10': 'GlucoseTherapy',\n",
    "    'V1 HbA1c (mmol/mol).1': 'HB1AC_V1',\n",
    "    'V3 HbA1c.1': 'HB1AC_V3',\n",
    "    'V1 Hb.1': 'Hemoglobin_V1',\n",
    "    'V3 Hb.1': 'Hemoglobin_V3',\n",
    "    'HbA1c V2': 'HB1AC_V2',\n",
    "    'Height (cm) V1': 'Height_cms',\n",
    "    'Induction 10': 'Labor_Induced',\n",
    "    'Instrumentation': 'Instrument_Delivery',\n",
    "    'Insulin 10': 'On_Insulin',\n",
    "    'Metformin 10': 'On_Metformin',\n",
    "    'Medications V1': 'Medications_All'"
   ]
  },
  {
   "cell_type": "code",
   "execution_count": 9,
   "id": "ee2b44a9-9689-486e-84f4-16e7f51c89c2",
   "metadata": {
    "tags": []
   },
   "outputs": [],
   "source": [
    "\n",
    "dfGDData.rename(columns={'EDD in keeping with LMP?': 'EDDEqLMP', 'EDD estimation method': 'EDDMethod','LSCS 10':'Caesarean','Ethnicity V1':'Ethnicity','Fetal jaundice 10':'FetalJaundice','1h glucose':'Glucose_1h'}, inplace=True)\n",
    "dfGDData.rename(columns={'GHP 10': 'GestationalHP', 'Glucose lowering therapy 10': 'GlucoseTherapy','V1 HbA1c (mmol/mol).1':'HB1AC_V1','V3 HbA1c.1':'HB1AC_V3','V1 Hb.1':'Hemoglobin_V1','V3 Hb.1':'Hemoglobin_V3','HbA1c V2':'HB1AC_V2'}, inplace=True)\n",
    "dfGDData.rename(columns={ 'Height (cm) V1': 'Height_cms', 'Induction 10': 'Labor_Induced','Instrumentation':'Instrument_Delivery', 'Insulin 10':'On_Insulin','Metformin 10':'On_Metformin','Medications V1':'Medications_All'}, inplace=True)"
   ]
  },
  {
   "cell_type": "markdown",
   "id": "70bd934b-8fd6-4250-8984-3c3b664576ee",
   "metadata": {},
   "source": [
    "6.Renamed these columns for better readability\n",
    "    'Chronic Illness V1': 'Chronic Illness',\n",
    "    'Cong malformation 10': 'Cong malformation',\n",
    "    'V1 Creatinine': 'Creatinine_V1',\n",
    "    'V3 Creat': 'Creatinine_V3',\n",
    "    'V1 CRP': 'CRP_V1',\n",
    "    'V3 CRP': 'CRP_V3'"
   ]
  },
  {
   "cell_type": "code",
   "execution_count": 15,
   "id": "19394f16-5b29-4d70-b0ba-26f332b7259c",
   "metadata": {
    "tags": []
   },
   "outputs": [],
   "source": [
    "#Renaming columns for better readability\n",
    "dfGDData.rename(columns={'Chronic Illness V1': 'Chronic Illness','Cong malformation 10':'Cong malformation','V1 Creatinine':'Creatinine_V1','V3 Creat':'Creatinine_V3','V1 CRP':'CRP_V1','V3 CRP':'CRP_V3'}, inplace=True)\n",
    "dfGDData.rename(columns={'Prescription for Caltrate sent?':'Caltrate','Delivered before 36/40 10':'Delivered before 36/40','Diagnosed with Vit D Deficiency':'Vit D Deficiency','Dystocia 10':'Dystocia'}, inplace=True)\n",
    "dfGDData.rename(columns={'Eclampsia 10':'Eclampsia','Pre-eclampsia 10':'Pre eclampsia'}, inplace=True)"
   ]
  },
  {
   "cell_type": "markdown",
   "id": "44e9fb55-2544-4bcd-99fd-991e1c3cd84c",
   "metadata": {},
   "source": [
    "7.If a column indicated the presence or absence of a test/procedure that was administered and contained null values. Then the null values were changed to ‘No’ to indicate that the test/procedure was not administered. For eg: All null values in the column Prescription for Caltrate sent? Were set to ‘No’ to indicate it was not sent\n",
    "\n"
   ]
  },
  {
   "cell_type": "code",
   "execution_count": 10,
   "id": "eddfbbe5-2966-4be7-a9f1-8b15ae5476aa",
   "metadata": {
    "tags": []
   },
   "outputs": [],
   "source": [
    "dfGDData['Emergency'].fillna('No',inplace=True)\n",
    "dfGDData['Epidural'].fillna('No',inplace=True)\n",
    "dfGDData['GlucoseTherapy'].fillna(0,inplace=True)"
   ]
  },
  {
   "cell_type": "code",
   "execution_count": 17,
   "id": "87a72580-a3c3-495c-af14-3462bd744330",
   "metadata": {
    "tags": []
   },
   "outputs": [],
   "source": [
    "dfGDData['Cong malformation'].fillna(0,inplace=True)\n",
    "dfGDData['Caltrate'].fillna('No',inplace=True) "
   ]
  },
  {
   "cell_type": "markdown",
   "id": "1856f082-b7cc-49af-8596-2439b093eb5d",
   "metadata": {},
   "source": [
    "8.If a column (like ‘Caesarean’) contained a medical diagnoses  stored as  ‘Yes/No’, null values would be replaced with “NR” to  indicate that a medical diagnosis was “Not Recorded”"
   ]
  },
  {
   "cell_type": "code",
   "execution_count": 11,
   "id": "96e58bfb-838a-4819-960c-047e77240bc6",
   "metadata": {
    "tags": []
   },
   "outputs": [],
   "source": [
    "dfGDData['EDDEqLMP'].fillna('NR',inplace=True)\n",
    "dfGDData['EDDMethod'].fillna('NR',inplace=True)\n",
    "dfGDData['FetalJaundice'].fillna('NR',inplace=True)\n",
    "dfGDData['GestationalHP'].fillna('NR',inplace=True)\n",
    "dfGDData['Labor_Induced'].fillna('NR',inplace=True)\n",
    "dfGDData['Instrument_Delivery'].fillna('NR',inplace=True)\n",
    "dfGDData['On_Insulin'].fillna('NR',inplace=True)\n",
    "dfGDData['On_Metformin'].fillna('NR',inplace=True)\n",
    "dfGDData['Spinal'].fillna('NR',inplace=True)\n",
    "dfGDData['Caesarean'].fillna('NR',inplace=True)"
   ]
  },
  {
   "cell_type": "code",
   "execution_count": 21,
   "id": "4778f7a3-14a0-4a2b-aa6b-fa2b4cc113bb",
   "metadata": {
    "tags": []
   },
   "outputs": [],
   "source": [
    "dfGDData['Vit D Deficiency'].fillna('NR',inplace=True)  \n",
    "dfGDData['Eclampsia'].fillna('NR',inplace=True)\n",
    "dfGDData['Pre eclampsia'].fillna('NR',inplace=True)"
   ]
  },
  {
   "cell_type": "code",
   "execution_count": 20,
   "id": "59d063c7-99c2-4675-a14f-a0cd86e2f7ec",
   "metadata": {
    "tags": []
   },
   "outputs": [
    {
     "data": {
      "text/plain": [
       "Index(['Participant ID', 'systolic BP (mmHg) V1', 'diastolic BP (mmHg) V1',\n",
       "       'Pulse (bpm) V1', 'Weight (kg) V1', 'Height_cms', 'BMI (kg/m2) V1',\n",
       "       'Smoking 123', 'Ethnicity', 'PreviousGDM10 V1', 'Chronic Illness',\n",
       "       'Medications_All', 'Age>30', 'HighRisk 10', 'Screening method',\n",
       "       '1st DASS score >33', 'V1 Gestational Age', 'EDD V1', 'WCC',\n",
       "       'V1 Platelet', 'V1 Calcium', 'V1 Albumin', 'V1 U albumin',\n",
       "       'V1 U protein', 'V1 US EDD', 'EDDEqLMP', 'EDDMethod',\n",
       "       'V1 25OHD value (nmol/L)', 'Caltrate', 'Glucose_1h', 'OGTT 0h value',\n",
       "       'OGTT 1h value', 'OGTT 2h value', 'Miscarriage after 28/40 10',\n",
       "       'Withdrew after 28/40 10', 'Delivered before 36/40',\n",
       "       'Attended Visit 3 10', 'Date of Visit 3', 'HB1AC_V2', 'Weight (kg) V3',\n",
       "       'systolic BP (mmHg) V3', 'diastolic BP (mmHg) V3', 'Pulse (bpm) V3',\n",
       "       '3rd visit DASS >33', 'V3 WCC', 'V3 Platelet', 'V3 Calcium', 'V3 ALT',\n",
       "       'V3 U Alb', 'V3 U Prot', 'V3 25OHD value', 'V3 Abdominal Circumference',\n",
       "       'HB1AC_V1', 'HB1AC_V3', 'Hemoglobin_V1', 'Hemoglobin_V3',\n",
       "       'V1 Creatinine.1', 'V3 Creat.1', 'V1 ALT.1', 'V1 CRP.1', 'V3 CRP.1',\n",
       "       'V1 PCR.1', 'V3 U PCR.1', 'GA at delivery', 'Dx with GDM',\n",
       "       'Attended GDM clinics', 'Vit D Deficiency', 'Took Vit D Supplements',\n",
       "       'Nutritional counselling', 'GlucoseTherapy', 'On_Insulin',\n",
       "       'On_Metformin', 'GestationalHP', 'Pre eclampsia', 'Eclampsia',\n",
       "       'Labor_Induced', 'Caesarean', 'Emergency', 'Instrument_Delivery',\n",
       "       'Still-birth', 'Twins 10', 'Birth weight (kg)', 'Twins weight',\n",
       "       'Apgar 1 minute', 'Apgar 3 minutes', 'Birth Injury 10', 'Dystocia',\n",
       "       'Antenatal steroid use', 'FetalJaundice', 'Total bilirubin', 'RR>60',\n",
       "       'SCBU 10', 'Cong malformation', 'Epidural', 'Spinal'],\n",
       "      dtype='object')"
      ]
     },
     "execution_count": 20,
     "metadata": {},
     "output_type": "execute_result"
    }
   ],
   "source": [
    "dfGDData.columns\n"
   ]
  },
  {
   "cell_type": "markdown",
   "id": "112a7fee-bccd-4388-89f1-8b0c23454f80",
   "metadata": {},
   "source": [
    "9.The Ethnicity column contained 34 values instead of the 6 given as codes in the first sheet. This column was standardized by removing all values in brackets so that they matched the codes given"
   ]
  },
  {
   "cell_type": "code",
   "execution_count": 25,
   "id": "395ff0d2-3440-4530-b27b-a312f6c19ef6",
   "metadata": {
    "tags": []
   },
   "outputs": [],
   "source": [
    "dfGDData['Epidural'] = dfGDData['Epidural'].str.title()"
   ]
  },
  {
   "cell_type": "code",
   "execution_count": 26,
   "id": "2bcb8e78-9b29-49c4-9bfe-b91b46678aa7",
   "metadata": {
    "tags": []
   },
   "outputs": [],
   "source": [
    "dfGDData['Ethnicity']=dfGDData.Ethnicity.str.replace(r\" \\(.*\\)\",\"\", regex=True)\n",
    "dfGDData['Ethnicity'] = dfGDData.Ethnicity.str.title()"
   ]
  },
  {
   "cell_type": "markdown",
   "id": "ef254467-6a39-4da2-a23f-081eecd7a0ca",
   "metadata": {},
   "source": [
    "10.If a column indicated the presence or absence of a test/procedure that was administered and contained null values. Then the null values were changed to ‘No’ to indicate that the test/procedure was not administered. For eg: All null values in the column Prescription for Caltrate sent? Were set to ‘No’ to indicate it was not sent."
   ]
  },
  {
   "cell_type": "code",
   "execution_count": 27,
   "id": "e5a9dab6-711d-4b8c-92df-a49c01a161bd",
   "metadata": {
    "tags": []
   },
   "outputs": [],
   "source": [
    "# Avoid noice in the data\n",
    "\n",
    "dfGDData['Caltrate'].replace('No (Miscarried)','No')\n",
    "\n",
    "# Avoid noice in the data - Prescription for Caltrate sent?\n",
    "\n",
    "dfGDData['Vit D Deficiency']=dfGDData['Vit D Deficiency'].str.startswith(('Yes','yes')).replace([True,False],['Yes','No'])\n"
   ]
  },
  {
   "cell_type": "markdown",
   "id": "cb935adf-b927-4fd5-b377-c2e2374bdb25",
   "metadata": {},
   "source": [
    "11.All columns that contained values already documented in a dedicated separate column were cleaned so that only the data needed in that column would remain. For eg: Date of Visit 3 contained values like: Transferred,Miscarried,DNA, etc. \n",
    "After confirming that columns like Miscarried/Withdrew after 28/40 10, DNA Visit 3 10  already contained this data, we changed all string values to null and preserved this column as a date column."
   ]
  },
  {
   "cell_type": "code",
   "execution_count": 28,
   "id": "6dfaebc5-1744-4f8a-b8c1-91b47d146743",
   "metadata": {
    "tags": []
   },
   "outputs": [],
   "source": [
    "# Avoid noise in the data - Date of Visit 3\n",
    "# Keeping only date values and removing all string value\n",
    "\n",
    "def valid_date(date):\n",
    "    try:\n",
    "        pd.to_datetime(date)\n",
    "        return date\n",
    "    except ValueError:\n",
    "        return np.nan\n",
    "    \n",
    "# Replace invalid dates with `NaN`\n",
    "dfGDData['Date of Visit 3'] = dfGDData['Date of Visit 3'].apply(valid_date)"
   ]
  },
  {
   "cell_type": "markdown",
   "id": "fdf312f8-f89f-48f7-8d23-88039ed4c58f",
   "metadata": {},
   "source": [
    "12.Null values in these columns set to NR"
   ]
  },
  {
   "cell_type": "code",
   "execution_count": 29,
   "id": "a5ffecfb-c8ac-442e-ad1f-217215595c6c",
   "metadata": {
    "tags": []
   },
   "outputs": [],
   "source": [
    "#Filling in the Null Values\n",
    "dfGDData['Twins 10'].fillna('NR',inplace=True)\n",
    "dfGDData['1st DASS score >33'].fillna('NR',inplace=True)\n",
    "dfGDData['Withdrew after 28/40 10'].fillna('NR',inplace=True)\n",
    "dfGDData['Dx with GDM'].fillna('NR',inplace=True)"
   ]
  },
  {
   "cell_type": "markdown",
   "id": "6f5a36f6-06b4-4b48-8b91-685fd0485333",
   "metadata": {},
   "source": [
    "13.Removes noise i.e., everything except digits(0-9). [^\\\\d]+ is a regular expression that matches one or more non-digit characters.So '45 mg/dL', 'approx. 100', or 'U/A 23' would become:'45', '100', '23' and next step is to convert the cleaned strings into actual numeric values (integers or floats).errors='coerce' replaces anything non-convertible with NaN.\n",
    "Useful if there are empty strings or entries like 'unknown' left over."
   ]
  },
  {
   "cell_type": "code",
   "execution_count": 31,
   "id": "e07c9bf9-bdb1-4473-a9d5-af96f71eb38c",
   "metadata": {
    "tags": []
   },
   "outputs": [],
   "source": [
    "#Removing Noise in Data\n",
    "dfGDData['V1 U albumin'] = dfGDData['V1 U albumin'].astype(str).str.replace('[^\\d]+', '', regex=True)\n",
    "dfGDData['V1 U albumin'] = pd.to_numeric(dfGDData['V1 U albumin'], errors='coerce')"
   ]
  },
  {
   "cell_type": "markdown",
   "id": "08de7068-c6d2-4375-a022-6fe323e97d4e",
   "metadata": {},
   "source": [
    "14.Replaced non numeric responses to NR "
   ]
  },
  {
   "cell_type": "code",
   "execution_count": 32,
   "id": "506004db-af6e-4752-8922-be32853949c4",
   "metadata": {
    "tags": []
   },
   "outputs": [],
   "source": [
    "#Removing Noise in Data\n",
    "dfGDData['1st DASS score >33'] = dfGDData['1st DASS score >33'].replace(['Couldn’t read/write', 'Didn’t fill it in'], 'NR')"
   ]
  },
  {
   "cell_type": "markdown",
   "id": "171dd805-8ff4-4ea5-95fc-fa5c93abdf97",
   "metadata": {},
   "source": [
    "15.Defining a function to convert number of weeks into days and calculated number of days "
   ]
  },
  {
   "cell_type": "code",
   "execution_count": 33,
   "id": "d5be03b5-badb-4f99-aecc-631787f195d3",
   "metadata": {
    "tags": []
   },
   "outputs": [],
   "source": [
    "#Removing Noise in Data\n",
    "def to_days(x):\n",
    "    try:\n",
    "        if '+' in x:\n",
    "            weeks, days = x.split('+')\n",
    "            return int(weeks) * 7 + int(days)\n",
    "        else:\n",
    "            return int(x)\n",
    "    except:\n",
    "        return None"
   ]
  },
  {
   "cell_type": "code",
   "execution_count": 34,
   "id": "e81dac0f-f861-4df4-a29f-277e6e78278b",
   "metadata": {
    "tags": []
   },
   "outputs": [],
   "source": [
    "#Removing Noise in Data\n",
    "dfGDData['V1 Gestational Age'] = dfGDData['V1 Gestational Age'].astype(str).apply(to_days)"
   ]
  },
  {
   "cell_type": "markdown",
   "id": "fead197f-2661-4e20-ada8-9df53935c78a",
   "metadata": {},
   "source": [
    "16.Conditionally checked if both numbers were in the \"high\" or \"Low\" weight category. If it was not, then the 2 weights were averaged"
   ]
  },
  {
   "cell_type": "code",
   "execution_count": 35,
   "id": "54a8aec9-c429-47b6-bf15-684b47c34f5d",
   "metadata": {
    "tags": []
   },
   "outputs": [],
   "source": [
    "#Removing Noise in Data\n",
    "def avg_twins_weight(x):\n",
    "    if x == '':\n",
    "        return x\n",
    "    elif isinstance(x, str) and ',' in x:\n",
    "        # split on comma\n",
    "        nums = x.split(',')\n",
    "    elif isinstance(x, str) and '/' in x:\n",
    "        # split on slash\n",
    "        nums = x.split('/')\n",
    "    elif isinstance(x, str):\n",
    "        # split on whitespace\n",
    "        nums = x.split()\n",
    "    else:\n",
    "        return np.nan\n",
    "    \n",
    "    # convert to float and take the average\n",
    "    nums = [float(n.replace(',', '.')) for n in nums]\n",
    "    avg_weight = sum(nums) / len(nums)\n",
    "    return round(avg_weight, 2)"
   ]
  },
  {
   "cell_type": "code",
   "execution_count": 36,
   "id": "b8486870-09d2-437f-9c34-b4d88db3334f",
   "metadata": {
    "tags": []
   },
   "outputs": [],
   "source": [
    "#Removing Noise in Data\n",
    "dfGDData['Twins weight'] = dfGDData['Twins weight'].apply(avg_twins_weight)"
   ]
  },
  {
   "cell_type": "markdown",
   "id": "3ab5d6ab-c81b-4b76-8717-6adabba0b73b",
   "metadata": {},
   "source": [
    "17.Strings like ‘Sample lost by lab’ set to null"
   ]
  },
  {
   "cell_type": "code",
   "execution_count": 37,
   "id": "98e157eb-a747-4011-a404-7c16505ac6ac",
   "metadata": {
    "tags": []
   },
   "outputs": [],
   "source": [
    "#Removing Noise in Data\n",
    "dfGDData['V1 25OHD value (nmol/L)'] =dfGDData['V1 25OHD value (nmol/L)'].replace(['Sample lost by lab'], np.nan)"
   ]
  },
  {
   "cell_type": "markdown",
   "id": "924e7385-e936-4fa1-9d8a-49bc14c89cd3",
   "metadata": {},
   "source": [
    "18.Strings like 'Sample not sent', 'Incorrect sample', replaced with null"
   ]
  },
  {
   "cell_type": "code",
   "execution_count": 38,
   "id": "979d5936-047c-4889-ab30-2d5a1df7359d",
   "metadata": {
    "tags": []
   },
   "outputs": [],
   "source": [
    "#Removing Noise in Data\n",
    "dfGDData['V3 25OHD value'] = dfGDData['V3 25OHD value'].replace(['Sample not sent', 'Incorrect sample','No Sample reci','Sample lost','Insufficent'], np.nan)"
   ]
  },
  {
   "cell_type": "markdown",
   "id": "2395e948-35b0-46b8-bd64-8d9725f8cc2f",
   "metadata": {},
   "source": [
    "19.Renamed these columns for better readability\n",
    "    'Twins 10': 'Twins',\n",
    "    'V1 Albumin': 'Albumin_V1',\n",
    "    'V1 U albumin': 'U Albumin_V1',\n",
    "    'V3 U Alb': 'U Albumin_V3',\n",
    "    'V1 Platelet': 'Platelet_V1',\n",
    "    'V3 Platelet': 'Platelet_V3',\n",
    "    'V1 Calcium': 'Calcium_V1',\n",
    "    'V3 Calcium': 'Calcium_V3',\n",
    "    'V1 25OHD value (nmol/L)': '25OHD value (nmol/L)_V1',\n",
    "    'V3 25OHD value': '25OHD value_V3',\n",
    "    'V1 U protein': 'U Protein_V1',\n",
    "    'V3 Abdominal Circumference': 'Abdominal Circumference_V3',\n",
    "    'Attended Visit 3 10': 'Attended Visit 3',\n",
    "    'V3 U Prot': 'U Protein_V3',\n",
    "    'V3 WCC': 'White Cell Count_V3',\n",
    "    'WCC': 'White Cell Count',\n",
    "    'Dx with GDM': 'GDM Diagonised',\n",
    "    'V1 Gestational Age': 'Gestational Age_V1'"
   ]
  },
  {
   "cell_type": "code",
   "execution_count": 39,
   "id": "4ac5767b-5d48-451e-a2e5-6b3c2158f0ed",
   "metadata": {
    "tags": []
   },
   "outputs": [],
   "source": [
    "#Renaming Columns\n",
    "dfGDData.rename(columns={'Twins 10': 'Twins','V1 Albumin':'Albumin_V1','V1 U albumin':'U Albumin_V1','V3 U Alb':'U Albumin_V3','V1 Platelet':'Platelet_V1'}, inplace=True)\n",
    "dfGDData.rename(columns={'V3 Platelet': 'Platelet_V3','V1 Calcium':'Calcium_V1','V3 Calcium':'Calcium_V3','V1 25OHD value (nmol/L)':'25OHD value (nmol/L)_V1','V3 25OHD value':'25OHD value_V3','V1 U protein':'U Protein_V1','V3 Abdominal Circumference':'Abdominal Circumference_V3'}, inplace=True)\n",
    "dfGDData.rename(columns={'Attended Visit 3 10': 'Attended Visit 3','V3 U Prot':'U Protein_V3','V3 WCC':'White Cell Count_V3','WCC':'White Cell Count','Dx with GDM':'GDM Diagonised','V1 Gestational Age':'Gestational Age_V1'}, inplace=True)"
   ]
  },
  {
   "cell_type": "markdown",
   "id": "7d87b204-25dc-497e-9059-21357c13f193",
   "metadata": {},
   "source": [
    "20.In \"GDM Diagnosed\" column values were cleaned to \"Yes\" and \"No\". Spaces and numbers were removed. "
   ]
  },
  {
   "cell_type": "code",
   "execution_count": 40,
   "id": "7266289d-e2b1-4a00-a86b-b3015d333982",
   "metadata": {
    "tags": []
   },
   "outputs": [],
   "source": [
    "#Removing Noise in Data\n",
    "dfGDData['GDM Diagonised'].replace('N0', 'No', inplace=True)"
   ]
  },
  {
   "cell_type": "code",
   "execution_count": 41,
   "id": "00d7be5f-f51a-415c-853c-e03c00c22216",
   "metadata": {
    "tags": []
   },
   "outputs": [],
   "source": [
    "dfGDData.to_excel(\"GDM_Python_Aug2025.xlsx\",sheet_name = \"GDM_Data\")"
   ]
  },
  {
   "cell_type": "markdown",
   "id": "4a248458-f3f9-49a4-bd18-d120f751d7aa",
   "metadata": {},
   "source": [
    "21.Renamed columns 'V3 U PCR': 'U PCR', 'Smoking 123 ': 'Smoking','SCBU 10' : 'SCBU'"
   ]
  },
  {
   "cell_type": "code",
   "execution_count": 42,
   "id": "7a53c284-21e5-484e-ba93-15b56576d128",
   "metadata": {
    "tags": []
   },
   "outputs": [],
   "source": [
    "#rename column names\n",
    "\n",
    "dfGDData.rename(columns={'V3 U PCR': 'U PCR', 'Smoking 123 ': 'Smoking','SCBU 10' : 'SCBU'}, inplace=True)"
   ]
  },
  {
   "cell_type": "markdown",
   "id": "b723a57f-861e-43f2-bddc-e1a1f7e76e2b",
   "metadata": {},
   "source": [
    "22.Replaced all null values to NR"
   ]
  },
  {
   "cell_type": "code",
   "execution_count": 43,
   "id": "d0fb1020-1722-4bb3-825e-0864c6abe040",
   "metadata": {
    "tags": []
   },
   "outputs": [],
   "source": [
    "#replace null value with 'NR'\n",
    "\n",
    "dfGDData['Nutritional counselling'].fillna('No',inplace=True)\n",
    "dfGDData['3rd visit DASS >33'].fillna('NR',inplace=True)\n",
    "dfGDData['RR>60'].fillna('NR',inplace=True)\n",
    "dfGDData['SCBU'].fillna('NR',inplace=True)\n",
    "dfGDData['Smoking 123'].fillna('NR',inplace=True)\n",
    "dfGDData['Still-birth'].fillna('NR',inplace=True)\n",
    "dfGDData['Took Vit D Supplements'].fillna('NR',inplace=True)\n",
    "dfGDData['Dystocia'].fillna('NR',inplace=True)\n",
    "dfGDData['Antenatal steroid use'].fillna('NR',inplace=True)"
   ]
  },
  {
   "cell_type": "markdown",
   "id": "11cc181c-2ae6-43ad-8095-eecef2bbd7b8",
   "metadata": {},
   "source": [
    "23.Strings like 'didn’t fill in’, ‘Not done', replaced by No. Nulls replaced with ‘NR’"
   ]
  },
  {
   "cell_type": "code",
   "execution_count": 44,
   "id": "a66e7bd7-24d7-418a-a45b-0ff0face2844",
   "metadata": {
    "tags": []
   },
   "outputs": [],
   "source": [
    "dfGDData['3rd visit DASS >33'].replace({'IUD':'No'},inplace=True)\n",
    "dfGDData['3rd visit DASS >33'].replace({'didn’t fill in':'No'},inplace=True)\n",
    "dfGDData['3rd visit DASS >33'].replace({'Not done':'No'},inplace=True)\n",
    "dfGDData['3rd visit DASS >33'].replace({'Didn’t fill in':'No'},inplace=True)\n",
    "dfGDData['3rd visit DASS >33'].replace({'Didn’t fill in ':'No'},inplace=True)\n",
    "dfGDData['Nutritional counselling'].replace({'N0':'No'},inplace=True)\n",
    "dfGDData['RR>60'].replace({'NO':'No'},inplace=True)\n",
    "dfGDData['Emergency'].replace({0:'No'},inplace=True)"
   ]
  },
  {
   "cell_type": "code",
   "execution_count": 45,
   "id": "739f9686-2311-4e55-92d5-c7dfcd465b2c",
   "metadata": {
    "tags": []
   },
   "outputs": [],
   "source": [
    "dfGDData['Instrument_Delivery'].replace({'NO':'No'},inplace=True)\n",
    "dfGDData['Instrument_Delivery'].replace({'Yes, twin 2':'Yes'},inplace=True)\n",
    "dfGDData['Still-birth'].replace({'NO':'No'},inplace=True)\n",
    "dfGDData['Spinal'].replace('No (GA)','No',inplace=True)"
   ]
  },
  {
   "cell_type": "markdown",
   "id": "4b270131-ff8f-43c3-81dc-41958457b35b",
   "metadata": {},
   "source": [
    "24.Integer value was preserved, all other strings were switched to null "
   ]
  },
  {
   "cell_type": "code",
   "execution_count": 46,
   "id": "411656a5-26d9-4fe1-acd7-7969967e7896",
   "metadata": {
    "tags": []
   },
   "outputs": [],
   "source": [
    "# replace non-numeric values with 'NR' in column_name\n",
    "\n",
    "dfGDData['Total bilirubin'] = pd.to_numeric(dfGDData['Total bilirubin'], errors='coerce').fillna(np.nan)"
   ]
  },
  {
   "cell_type": "markdown",
   "id": "7ec2098d-17d6-468d-a920-bcdeb3a47549",
   "metadata": {},
   "source": [
    "25.Renamed these columns \n",
    "    'Participant ID': 'Patient_ID',\n",
    "    'Weight (kg) V1': 'WeightinV1',\n",
    "    'Weight (kg) V3': 'WeightinV3',\n",
    "    'Pulse (bpm) V1': 'PulseinV1',\n",
    "    'Pulse (bpm) V3': 'PulseinV3',\n",
    "    'diastolic BP (mmHg) V1': 'diastolicBP_V1',\n",
    "    'diastolic BP (mmHg) V3': 'diastolicBP_V3',\n",
    "    'systolic BP (mmHg) V1': 'systolicBP_V1',\n",
    "    'systolic BP (mmHg) V3': 'systolicBP_V3',\n",
    "    'Antenatal steroid use': 'Antenatal_steroid_use',\n",
    "    'BMI (kg/m2) V1': 'BMIinV1',\n",
    "    'Birth Injury 10': 'BirthInjury',\n",
    "    'Birth weight (kg)': 'BirthWeight',\n",
    "    'Attended GDM clinics': 'Attended_GDM_clinics',\n",
    "    'HighRisk 10': 'HighRisk',\n",
    "    'V1 ALT.1': 'ALT_V1',\n",
    "    'V3 ALT': 'ALT_V3',\n",
    "    'Apgar 1 minute': 'Apgar_1min',\n",
    "    'Apgar 3 minutes': 'Apgar_3min',\n",
    "    'Age>30': 'Age_gt_30'"
   ]
  },
  {
   "cell_type": "code",
   "execution_count": 47,
   "id": "9c494aa6-7562-42ef-ab5a-a340f1c461a7",
   "metadata": {
    "tags": []
   },
   "outputs": [],
   "source": [
    "# Replacing the column names\n",
    "dfGDData = dfGDData.rename(columns={'Participant ID': 'Patient_ID'})\n",
    "dfGDData = dfGDData.rename(columns={'Weight (kg) V1': 'WeightinV1'})\n",
    "dfGDData = dfGDData.rename(columns={'Weight (kg) V3': 'WeightinV3'})\n",
    "dfGDData = dfGDData.rename(columns={'Pulse (bpm) V1': 'PulseinV1'})\n",
    "dfGDData = dfGDData.rename(columns={'Pulse (bpm) V3': 'PulseinV3'})\n",
    "dfGDData = dfGDData.rename(columns={'diastolic BP (mmHg) V1': 'diastolicBP_V1'})\n",
    "dfGDData = dfGDData.rename(columns={'diastolic BP (mmHg) V3': 'diastolicBP_V3'})\n",
    "dfGDData = dfGDData.rename(columns={'systolic BP (mmHg) V1': 'systolicBP_V1'})\n",
    "dfGDData = dfGDData.rename(columns={'systolic BP (mmHg) V3': 'systolicBP_V3'})\n",
    "dfGDData = dfGDData.rename(columns={'Antenatal steroid use': 'Antenatal_steroid_use'})\n",
    "dfGDData = dfGDData.rename(columns={'BMI (kg/m2) V1': 'BMIinV1'})\n",
    "dfGDData = dfGDData.rename(columns={'Birth Injury 10': 'BirthInjury'})\n",
    "dfGDData = dfGDData.rename(columns={'Birth weight (kg)': 'BirthWeight'})\n",
    "dfGDData = dfGDData.rename(columns={'Attended GDM clinics': 'Attended_GDM_clinics'})\n",
    "dfGDData = dfGDData.rename(columns={'HighRisk 10': 'HighRisk'})\n",
    "dfGDData = dfGDData.rename(columns={'V1 ALT.1': 'ALT_V1'})\n",
    "dfGDData = dfGDData.rename(columns={'V3 ALT': 'ALT_V3'})\n",
    "dfGDData = dfGDData.rename(columns={'Apgar 1 minute': 'Apgar_1min'})\n",
    "dfGDData = dfGDData.rename(columns={'Apgar 3 minutes': 'Apgar_3min'})\n",
    "dfGDData = dfGDData.rename(columns={'Age>30': 'Age_gt_30'})"
   ]
  },
  {
   "cell_type": "markdown",
   "id": "67cebe71-c5a0-4e7a-bbc8-be050bcd5c71",
   "metadata": {},
   "source": [
    "26.Null values set to NR, All other values title cased to maintain standard format"
   ]
  },
  {
   "cell_type": "code",
   "execution_count": 48,
   "id": "f3e3391e-94f4-4046-94ae-5b09f9b8485d",
   "metadata": {
    "tags": []
   },
   "outputs": [],
   "source": [
    "#Clearing Noise data in Antenatal_steroid_use column\n",
    "dfGDData['Antenatal_steroid_use'] = dfGDData['Antenatal_steroid_use'].replace('NO','No')"
   ]
  },
  {
   "cell_type": "markdown",
   "id": "c6a265df-356b-4418-9976-bf1499e83f70",
   "metadata": {},
   "source": [
    "27.Noise in Apgar_1min column is removed and If 2 weights were found and both were within normal range, they were averaged"
   ]
  },
  {
   "cell_type": "code",
   "execution_count": 49,
   "id": "3fffea26-f2b8-4b85-9abd-26ce2edfe08b",
   "metadata": {
    "tags": []
   },
   "outputs": [],
   "source": [
    "#Clearing Noise data in Apgar_1min column\n",
    "#dfGDData.Apgar_1min.fillna(value='NR',inplace=True)\n",
    "\n",
    "def avg_apgar(x):\n",
    "    if x == '':\n",
    "        return x\n",
    "    elif isinstance(x, str) and ',' in x:\n",
    "        # split on comma\n",
    "        nums = x.split(',')\n",
    "    elif isinstance(x, str) and '/' in x:\n",
    "        # split on slash\n",
    "        nums = x.split('/')\n",
    "    elif isinstance(x, str):\n",
    "        # split on whitespace\n",
    "        nums = x.split()\n",
    "    else:\n",
    "        return np.nan\n",
    "    \n",
    "    # convert to float and take the average\n",
    "    nums = [float(n.replace(',', '.')) for n in nums]\n",
    "    avg_weight = sum(nums) / len(nums)\n",
    "    return round(avg_weight, 2)\n",
    "\n",
    "dfGDData['Apgar_1min'] = dfGDData['Apgar_1min'].apply(avg_apgar)"
   ]
  },
  {
   "cell_type": "markdown",
   "id": "05e90625-21c3-4d3f-af6f-04c21b1b2b31",
   "metadata": {},
   "source": [
    "28.Clearing Noise data in BirthInjury column"
   ]
  },
  {
   "cell_type": "code",
   "execution_count": 50,
   "id": "bdcb8903-712d-4154-91db-36e1fccdebd8",
   "metadata": {
    "tags": []
   },
   "outputs": [],
   "source": [
    "dfGDData.BirthInjury.fillna(value='NR',inplace=True)"
   ]
  },
  {
   "cell_type": "markdown",
   "id": "ff1fc648-beb8-4195-ae75-f774b754b7c2",
   "metadata": {},
   "source": [
    "29.Clearing Noise data in Attended_GDM_clinics column"
   ]
  },
  {
   "cell_type": "code",
   "execution_count": 51,
   "id": "3aa2682c-c1c4-471c-92a2-b2d3efc5da92",
   "metadata": {
    "tags": []
   },
   "outputs": [],
   "source": [
    "dfGDData.Attended_GDM_clinics.fillna(value='No',inplace=True)"
   ]
  },
  {
   "cell_type": "markdown",
   "id": "1bdf6ccf-d356-4ffd-a60e-f949ddc28e9e",
   "metadata": {},
   "source": [
    "30.Replaced all non string values with Yes or No to stadardize format"
   ]
  },
  {
   "cell_type": "code",
   "execution_count": 52,
   "id": "02439215-6cbb-4187-86cf-16c2100d8f1a",
   "metadata": {
    "tags": []
   },
   "outputs": [],
   "source": [
    "dfGDData['Attended_GDM_clinics'].replace({'No (rpt OGTT-NAD)':'No'},inplace=True)\n",
    "dfGDData['Attended_GDM_clinics'].replace({'Pt miscarried':'No'},inplace=True)\n",
    "dfGDData['Attended_GDM_clinics'].replace({'Pt transferred':'No'},inplace=True)\n",
    "dfGDData['Attended_GDM_clinics'].replace({'Yes (DX @ 32wks)':'Yes'},inplace=True)\n",
    "dfGDData['Attended_GDM_clinics'].replace({'Yes (DX @ 35wks)':'No'},inplace=True)"
   ]
  },
  {
   "cell_type": "markdown",
   "id": "74036d19-6dd3-4b91-878f-e73a3bc61946",
   "metadata": {},
   "source": [
    "31.Replaced all non string values with Yes or No to stadardize format"
   ]
  },
  {
   "cell_type": "code",
   "execution_count": 53,
   "id": "6ee7e958-bb87-4963-b04e-c000726720e6",
   "metadata": {
    "tags": []
   },
   "outputs": [],
   "source": [
    "#Clearing Noise data in Took Vit D Supplements\n",
    "\n",
    "dfGDData['Took Vit D Supplements'].replace({'ref not followed up':'No'},inplace=True)\n",
    "dfGDData['Took Vit D Supplements'].replace({'Yes (px by GP)':'Yes'},inplace=True)\n",
    "dfGDData['Took Vit D Supplements'].replace({'Yes (for 4/52)':'Yes'},inplace=True)\n",
    "dfGDData['Took Vit D Supplements'].replace({'No (vomit)':'No'},inplace=True)\n"
   ]
  },
  {
   "cell_type": "markdown",
   "id": "7ab1862d-4436-463d-90a3-44fa6f8d2e82",
   "metadata": {
    "tags": []
   },
   "source": [
    "32.Removed  Noise data in 25OHD value_V3"
   ]
  },
  {
   "cell_type": "code",
   "execution_count": 55,
   "id": "f0a36cc5-4db1-475f-a9a4-8eb0b0f46ca3",
   "metadata": {
    "tags": []
   },
   "outputs": [],
   "source": [
    "dfGDData['25OHD value_V3'].replace({'Lab error':np.nan},inplace=True)\n",
    "dfGDData['25OHD value_V3'].replace({'<10':9.8},inplace=True)"
   ]
  },
  {
   "cell_type": "markdown",
   "id": "39f3bbfd-e805-4482-8f0c-33571fbca48f",
   "metadata": {},
   "source": [
    "33.Removed noise data in 'U Albumin_V3'"
   ]
  },
  {
   "cell_type": "code",
   "execution_count": 56,
   "id": "0c382c91-53b1-4a28-9ac3-5c533da85aa9",
   "metadata": {
    "tags": []
   },
   "outputs": [],
   "source": [
    "dfGDData['U Albumin_V3'].replace({'<3':2.8},inplace=True)\n",
    "dfGDData['U Albumin_V3'].replace({'<3.0':2.8},inplace=True) \n",
    "dfGDData['U Albumin_V3'].replace({'<5':4.8},inplace=True)\n",
    "dfGDData['U Albumin_V3'].replace({'<7':6.8},inplace=True)\n",
    "dfGDData['U Albumin_V3'].replace({'>7':7.1},inplace=True)\n",
    "dfGDData['U Albumin_V3'].replace({',5':5},inplace=True)"
   ]
  },
  {
   "cell_type": "markdown",
   "id": "6c87e595-90ac-4192-9c3d-a81d16cc7931",
   "metadata": {},
   "source": [
    "34.Updated Date Time format to Date format"
   ]
  },
  {
   "cell_type": "code",
   "execution_count": 57,
   "id": "659a44d2-607c-4b5e-8791-1ec20823d15c",
   "metadata": {
    "tags": []
   },
   "outputs": [],
   "source": [
    "dfGDData['EDD V1'] = pd.to_datetime(dfGDData['EDD V1']).dt.date\n",
    "dfGDData['V1 US EDD'] = pd.to_datetime(dfGDData['V1 US EDD']).dt.date\n",
    "dfGDData['Date of Visit 3'] = pd.to_datetime(dfGDData['Date of Visit 3']).dt.date"
   ]
  },
  {
   "cell_type": "markdown",
   "id": "30dcb62b-4679-4c08-8dd1-06dee19793a5",
   "metadata": {},
   "source": [
    "35.Renamed columns to stadardize format"
   ]
  },
  {
   "cell_type": "code",
   "execution_count": 58,
   "id": "cb3fd78e-ed24-4c6d-a839-a5bc3c43348f",
   "metadata": {
    "tags": []
   },
   "outputs": [],
   "source": [
    "dfGDData.rename(columns={'HB1AC_V1':'HBA1C_V1','HB1AC_V3':'HBA1C_V3'}, inplace=True)"
   ]
  },
  {
   "cell_type": "code",
   "execution_count": 59,
   "id": "038046a1-f5ef-4f30-9c57-1e3b0655b003",
   "metadata": {
    "tags": []
   },
   "outputs": [],
   "source": [
    "dfGDData.rename(columns={'OGTT 0h value':'OGTT_0h_value','OGTT 1h value':'OGTT_1h_value','OGTT 2h value':'OGTT_2h_value'}, inplace=True)\n"
   ]
  },
  {
   "cell_type": "markdown",
   "id": "fab3e60d-3f43-40ce-b97f-8c8d620fcc54",
   "metadata": {},
   "source": [
    "36.Dropped columns which do not have glucose related values"
   ]
  },
  {
   "cell_type": "code",
   "execution_count": 60,
   "id": "a25d2eff-0931-4c6c-b6de-a7588a524e24",
   "metadata": {
    "tags": []
   },
   "outputs": [],
   "source": [
    "dffilter = dfGDData.query(\"Glucose_1h.isna() and OGTT_0h_value.isna() and OGTT_1h_value.isna() and OGTT_2h_value.isna() and HBA1C_V1.isna()\")\n",
    "index_val= dffilter.index\n",
    "dfGDData.drop(index_val, inplace = True)"
   ]
  },
  {
   "cell_type": "code",
   "execution_count": 61,
   "id": "25744229-7516-43db-a358-f10c9de4d0ad",
   "metadata": {
    "tags": []
   },
   "outputs": [
    {
     "data": {
      "text/plain": [
       "(565, 95)"
      ]
     },
     "execution_count": 61,
     "metadata": {},
     "output_type": "execute_result"
    }
   ],
   "source": [
    "dfGDData.shape"
   ]
  },
  {
   "cell_type": "code",
   "execution_count": 64,
   "id": "3aaddbe5-cd40-479b-85bf-8757e8ac802d",
   "metadata": {
    "tags": []
   },
   "outputs": [],
   "source": [
    "missingvalues_percentage = dfGDData.isnull().mean() * 100\n"
   ]
  },
  {
   "cell_type": "code",
   "execution_count": 65,
   "id": "1559e2c1-f825-4106-b212-2a0707225306",
   "metadata": {
    "tags": []
   },
   "outputs": [
    {
     "data": {
      "image/png": "[encoded data removed]",
      "text/plain": [
       "<Figure size 3000x3500 with 1 Axes>"
      ]
     },
     "metadata": {},
     "output_type": "display_data"
    }
   ],
   "source": [
    "plt.figure(figsize=(30,35))\n",
    "plt.xticks(rotation=75)\n",
    "plt.yticks(fontsize=10)\n",
    "plt.title(\"Percentage of Missing Values per Column\",fontsize=15)\n",
    "\n",
    "b=sns.barplot(x=missingvalues_percentage[missingvalues_percentage>0.0],y=missingvalues_percentage[missingvalues_percentage>0.0].index)\n",
    "b.set_ylabel(\"Columns Names\",fontsize= 15)\n",
    "b.set_xlabel(\"Percentage missing values\",fontsize= 15)\n",
    "plt.show()"
   ]
  },
  {
   "cell_type": "code",
   "execution_count": 66,
   "id": "9bc74afb-20a7-49c8-9548-bbbd0edb8774",
   "metadata": {
    "tags": []
   },
   "outputs": [],
   "source": [
    "#Write TO excel\n",
    "\n",
    "dfGDData.to_excel(\"GDM_Python_Aug2025.xlsx\",sheet_name = \"GDM_Data\",index=False)"
   ]
  },
  {
   "cell_type": "code",
   "execution_count": null,
   "id": "1bd55e2c-5668-4834-be19-803f9ede8d25",
   "metadata": {},
   "outputs": [],
   "source": []
  },
  {
   "cell_type": "code",
   "execution_count": null,
   "id": "2b9f35e0-7ddb-400e-ae65-353379233179",
   "metadata": {},
   "outputs": [],
   "source": []
  },
  {
   "cell_type": "code",
   "execution_count": null,
   "id": "cab40802-70ea-4d3f-801a-830661a28591",
   "metadata": {},
   "outputs": [],
   "source": []
  }
 ],
 "metadata": {
  "kernelspec": {
   "display_name": "Python 3 (ipykernel)",
   "language": "python",
   "name": "python3"
  },
  "language_info": {
   "codemirror_mode": {
    "name": "ipython",
    "version": 3
   },
   "file_extension": ".py",
   "mimetype": "text/x-python",
   "name": "python",
   "nbconvert_exporter": "python",
   "pygments_lexer": "ipython3",
   "version": "3.11.3"
  }
 },
 "nbformat": 4,
 "nbformat_minor": 5
}
