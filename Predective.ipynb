{
 "cells": [
  {
   "cell_type": "code",
   "execution_count": null,
   "id": "186120b1-589a-4d57-8992-ce9790b69937",
   "metadata": {},
   "outputs": [],
   "source": [
    "II. Predictive  Analysis"
   ]
  },
  {
   "cell_type": "code",
   "execution_count": 153,
   "id": "023fb713-cfbb-48a8-b39c-9f289ccb3377",
   "metadata": {},
   "outputs": [],
   "source": [
    "import numpy as np\n",
    "import pandas as pd\n",
    "import seaborn as sns\n",
    "import matplotlib.pyplot as plt\n",
    "import warnings\n",
    "warnings.simplefilter(action='ignore', category=FutureWarning)\n",
    "from scipy.stats import mannwhitneyu\n",
    "from scipy.stats import chi2_contingency\n",
    "from statsmodels.stats.outliers_influence import variance_inflation_factor\n",
    "from statsmodels.tools.tools import add_constant\n",
    "from sklearn.preprocessing import LabelEncoder"
   ]
  },
  {
   "cell_type": "code",
   "execution_count": 45,
   "id": "40b980a1-51c7-44b9-aee5-bff50abed31c",
   "metadata": {},
   "outputs": [],
   "source": [
    "from sklearn.linear_model import LogisticRegression\n",
    "from sklearn.naive_bayes import GaussianNB\n",
    "from sklearn.naive_bayes import GaussianNB\n",
    "from sklearn.neural_network import MLPClassifier\n",
    "from sklearn.neighbors import KNeighborsClassifier\n",
    "from sklearn.ensemble import RandomForestClassifier\n",
    "from sklearn.tree import DecisionTreeClassifier\n",
    "from xgboost import XGBClassifier\n",
    "from sklearn.svm import SVC\n",
    "from sklearn.metrics import accuracy_score, confusion_matrix, classification_report,precision_score,recall_score,f1_score\n",
    "import xgboost as xgb\n"
   ]
  },
  {
   "cell_type": "code",
   "execution_count": 3,
   "id": "ae4a828b-9ead-4d41-b325-3033eecb9b5b",
   "metadata": {},
   "outputs": [],
   "source": [
    "pd.set_option('display.max_rows',None)\n",
    "pd.set_option('display.max_columns',None)"
   ]
  },
  {
   "cell_type": "code",
   "execution_count": 8,
   "id": "9e53ae0a-c704-44b1-bcab-666858df1bd3",
   "metadata": {},
   "outputs": [],
   "source": [
    "data= pd.read_excel(\"GDM_Python_Aug2025.xlsx\")"
   ]
  },
  {
   "cell_type": "code",
   "execution_count": 163,
   "id": "1a2af697-f7f4-4b8f-a201-25facfe2f889",
   "metadata": {},
   "outputs": [],
   "source": [
    "df=data.copy()"
   ]
  },
  {
   "cell_type": "markdown",
   "id": "52b1b7df-3764-48bf-8dfe-a49fc07ca7a5",
   "metadata": {},
   "source": [
    "### Early Risk Prediction of Gestational Diabetes Mellitus (GDM)\n",
    "\n",
    "**Research Hypotheses:**\n",
    "\n",
    "- **Null Hypothesis (H₀):** Gestational Diabetes Mellitus (GDM) is *not* significantly associated with adverse pregnancy outcomes or complications.\n",
    "- **Alternative Hypothesis (H₁):** Gestational Diabetes Mellitus (GDM) *is* significantly associated with adverse pregnancy outcomes and complications."
   ]
  },
  {
   "cell_type": "code",
   "execution_count": 25,
   "id": "9c8981ff-2e3d-4897-a9bd-d80923d0d5d3",
   "metadata": {},
   "outputs": [
    {
     "name": "stdout",
     "output_type": "stream",
     "text": [
      "Mean gestational age_V1 in weeks: 13.59\n"
     ]
    }
   ],
   "source": [
    "mean_weeks = df['Gestational Age_V1'].mean() / 7\n",
    "print(f\"Mean gestational age_V1 in weeks: {mean_weeks:.2f}\")"
   ]
  },
  {
   "cell_type": "markdown",
   "id": "a2d70914-9b8f-41d1-a588-5203db68c7b1",
   "metadata": {},
   "source": [
    "##### The average first prenatal visit women is at  arround 14 weeks in our dataset.\n",
    "##### Our objective is to evaluate the predictive power of the early indicators through rigorous statistical testing and modeling."
   ]
  },
  {
   "cell_type": "markdown",
   "id": "ec623af3-fb84-4155-9461-b07e8435aac3",
   "metadata": {},
   "source": [
    "###  **Reasoning (Why is it important)**\n",
    "\n",
    "* **Early identification** of at-risk women allows for **early lifestyle or therapeutic interventions**.\n",
    "* Can **prevent GDM-related complications** (e.g., macrosomia, pre-eclampsia, stillbirth).\n",
    "* Enables **personalized prenatal care** before routine screening (\\~24–28 weeks).\n",
    "* Reduces long-term maternal risk and poor neonatal outcomes."
   ]
  },
  {
   "cell_type": "markdown",
   "id": "498c2c8f-2397-4619-ade1-c3e0b1ddffa4",
   "metadata": {},
   "source": [
    "###  **Chosen Parameters and Their Connection to Hypothesis**\n",
    "\n",
    "| Feature                                           | Why it’s Included                                         |\n",
    "| ------------------------------------------------- | --------------------------------------------------------- |\n",
    "| `Age >30`                                         | Older age is a known risk factor for insulin resistance   |\n",
    "| `BMI (kg/m2) V1`                                  | Obesity is strongly associated with GDM                   |\n",
    "| `Previous GDM V1`                                 | Past GDM is a strong predictor of recurrence              |\n",
    "| `      `                                          |           |\n",
    "| `Smoking`                                         | Lifestyle factors influencing insulin/glucose metabolism  |\n",
    "| `HighRisk 10`                                     | Pre-defined composite risk factor                         |\n",
    "| `Chronic Illness V1`                              | Associated comorbidities may increase metabolic burden    |\n",
    "|                |\n",
    "| `V1 25OHD value`                                  | Vitamin D deficiency may contribute to insulin resistance |\n",
    "| `Diagnosed with Vit D Deficiency`                 | Early marker of metabolic dysfunction                     |\n",
    "| `systolic BP (mmHg) V1`, `diastolic BP (mmHg) V1` | Hypertension is associated with metabolic disease         |\n",
    "| `Pulse (bpm) V1`                                  | May reflect underlying stress/metabolic state             |\n"
   ]
  },
  {
   "cell_type": "markdown",
   "id": "afd8e9d8-9139-402c-b97c-dc8d3c7ee660",
   "metadata": {},
   "source": [
    "### Correlation Check for GDM Diagnosis\n",
    "\n",
    "Since the data isn't normally distributed, we used Spearman’s correlation to check how each clinical feature is related to the GDM diagnosis (Yes = 1, No = 0)."
   ]
  },
  {
   "cell_type": "code",
   "execution_count": 57,
   "id": "861cb972-62b4-48db-8765-adf6b3fe5474",
   "metadata": {},
   "outputs": [],
   "source": [
    "df1=data.copy()"
   ]
  },
  {
   "cell_type": "code",
   "execution_count": 65,
   "id": "6ac9ddfe-703d-40e2-9aa0-4436d2dc20ea",
   "metadata": {},
   "outputs": [
    {
     "data": {
      "text/plain": [
       "V1 CRP.1           0.150546\n",
       "PulseinV1          0.148724\n",
       "BMIinV1            0.133116\n",
       "Platelet_V1        0.112980\n",
       "diastolicBP_V1     0.092703\n",
       "Calcium_V1         0.091657\n",
       "systolicBP_V1      0.088896\n",
       "ALT_V1             0.084171\n",
       "U Protein_V1       0.074699\n",
       "V1 PCR.1           0.070136\n",
       "Hemoglobin_V1      0.006601\n",
       "V1 Creatinine.1   -0.019262\n",
       "Albumin_V1        -0.113102\n",
       "U Albumin_V1      -0.125247\n",
       "Name: GDM_binary, dtype: float64"
      ]
     },
     "execution_count": 65,
     "metadata": {},
     "output_type": "execute_result"
    }
   ],
   "source": [
    "# Map GDM to binary\n",
    "df1['GDM_binary'] = df1['GDM Diagonised'].map({'Yes': 1, 'No': 0})\n",
    "\n",
    "# Define the feature list\n",
    "features = ['systolicBP_V1', 'diastolicBP_V1', 'PulseinV1', 'Platelet_V1', \n",
    "            'Calcium_V1', 'Albumin_V1', 'U Protein_V1', 'ALT_V1', \n",
    "            'U Albumin_V1', 'V1 CRP.1', 'V1 Creatinine.1', 'Hemoglobin_V1',\n",
    "            'V1 PCR.1', 'BMIinV1']\n",
    "\n",
    "# Check and filter valid features\n",
    "valid_features = [f for f in features if f in df1.columns]\n",
    "\n",
    "# Calculate Spearman correlation with GDM_binary\n",
    "corr_spearman = df1[valid_features + ['GDM_binary']].corr(method='spearman')['GDM_binary'].drop('GDM_binary')\n",
    "\n",
    "# Print sorted results\n",
    "corr_spearman.sort_values(ascending=False)"
   ]
  },
  {
   "cell_type": "code",
   "execution_count": 49,
   "id": "d31b57d0-a668-4abd-ae29-2dda07694422",
   "metadata": {},
   "outputs": [
    {
     "data": {
      "text/html": [
       "<div>\n",
       "<style scoped>\n",
       "    .dataframe tbody tr th:only-of-type {\n",
       "        vertical-align: middle;\n",
       "    }\n",
       "\n",
       "    .dataframe tbody tr th {\n",
       "        vertical-align: top;\n",
       "    }\n",
       "\n",
       "    .dataframe thead th {\n",
       "        text-align: right;\n",
       "    }\n",
       "</style>\n",
       "<table border=\"1\" class=\"dataframe\">\n",
       "  <thead>\n",
       "    <tr style=\"text-align: right;\">\n",
       "      <th></th>\n",
       "      <th>U-statistic</th>\n",
       "      <th>p-value</th>\n",
       "      <th>Chance of randomness (%)</th>\n",
       "    </tr>\n",
       "  </thead>\n",
       "  <tbody>\n",
       "    <tr>\n",
       "      <th>PulseinV1</th>\n",
       "      <td>22091.5</td>\n",
       "      <td>0.00049</td>\n",
       "      <td>0.05</td>\n",
       "    </tr>\n",
       "    <tr>\n",
       "      <th>V1 CRP.1</th>\n",
       "      <td>17671.0</td>\n",
       "      <td>0.00071</td>\n",
       "      <td>0.07</td>\n",
       "    </tr>\n",
       "    <tr>\n",
       "      <th>BMIinV1</th>\n",
       "      <td>21627.0</td>\n",
       "      <td>0.00180</td>\n",
       "      <td>0.18</td>\n",
       "    </tr>\n",
       "    <tr>\n",
       "      <th>Platelet_V1</th>\n",
       "      <td>20978.5</td>\n",
       "      <td>0.00813</td>\n",
       "      <td>0.81</td>\n",
       "    </tr>\n",
       "    <tr>\n",
       "      <th>diastolicBP_V1</th>\n",
       "      <td>20417.5</td>\n",
       "      <td>0.02973</td>\n",
       "      <td>2.97</td>\n",
       "    </tr>\n",
       "    <tr>\n",
       "      <th>U Albumin_V1</th>\n",
       "      <td>4153.0</td>\n",
       "      <td>0.03243</td>\n",
       "      <td>3.24</td>\n",
       "    </tr>\n",
       "    <tr>\n",
       "      <th>systolicBP_V1</th>\n",
       "      <td>20304.5</td>\n",
       "      <td>0.03712</td>\n",
       "      <td>3.71</td>\n",
       "    </tr>\n",
       "    <tr>\n",
       "      <th>ALT_V1</th>\n",
       "      <td>17411.0</td>\n",
       "      <td>0.05499</td>\n",
       "      <td>5.50</td>\n",
       "    </tr>\n",
       "    <tr>\n",
       "      <th>Albumin_V1</th>\n",
       "      <td>4392.5</td>\n",
       "      <td>0.06228</td>\n",
       "      <td>6.23</td>\n",
       "    </tr>\n",
       "    <tr>\n",
       "      <th>U Protein_V1</th>\n",
       "      <td>19699.5</td>\n",
       "      <td>0.08097</td>\n",
       "      <td>8.10</td>\n",
       "    </tr>\n",
       "    <tr>\n",
       "      <th>V1 PCR.1</th>\n",
       "      <td>17095.0</td>\n",
       "      <td>0.11122</td>\n",
       "      <td>11.12</td>\n",
       "    </tr>\n",
       "    <tr>\n",
       "      <th>Calcium_V1</th>\n",
       "      <td>6054.5</td>\n",
       "      <td>0.13088</td>\n",
       "      <td>13.09</td>\n",
       "    </tr>\n",
       "    <tr>\n",
       "      <th>V1 Creatinine.1</th>\n",
       "      <td>16805.5</td>\n",
       "      <td>0.65234</td>\n",
       "      <td>65.23</td>\n",
       "    </tr>\n",
       "    <tr>\n",
       "      <th>Hemoglobin_V1</th>\n",
       "      <td>15382.0</td>\n",
       "      <td>0.88070</td>\n",
       "      <td>88.07</td>\n",
       "    </tr>\n",
       "  </tbody>\n",
       "</table>\n",
       "</div>"
      ],
      "text/plain": [
       "                 U-statistic  p-value  Chance of randomness (%)\n",
       "PulseinV1            22091.5  0.00049                      0.05\n",
       "V1 CRP.1             17671.0  0.00071                      0.07\n",
       "BMIinV1              21627.0  0.00180                      0.18\n",
       "Platelet_V1          20978.5  0.00813                      0.81\n",
       "diastolicBP_V1       20417.5  0.02973                      2.97\n",
       "U Albumin_V1          4153.0  0.03243                      3.24\n",
       "systolicBP_V1        20304.5  0.03712                      3.71\n",
       "ALT_V1               17411.0  0.05499                      5.50\n",
       "Albumin_V1            4392.5  0.06228                      6.23\n",
       "U Protein_V1         19699.5  0.08097                      8.10\n",
       "V1 PCR.1             17095.0  0.11122                     11.12\n",
       "Calcium_V1            6054.5  0.13088                     13.09\n",
       "V1 Creatinine.1      16805.5  0.65234                     65.23\n",
       "Hemoglobin_V1        15382.0  0.88070                     88.07"
      ]
     },
     "execution_count": 49,
     "metadata": {},
     "output_type": "execute_result"
    }
   ],
   "source": [
    "results = {}\n",
    "\n",
    "for col in ['systolicBP_V1', 'diastolicBP_V1', 'PulseinV1','Platelet_V1', 'Calcium_V1', 'Albumin_V1', 'U Protein_V1', 'ALT_V1', 'U Albumin_V1','V1 CRP.1','V1 Creatinine.1', 'Hemoglobin_V1','V1 PCR.1','BMIinV1']:\n",
    "    group_yes = df[df['GDM Diagonised'].str.lower() == 'yes'][col].dropna()\n",
    "    group_no = df[df['GDM Diagonised'].str.lower() == 'no'][col].dropna()\n",
    "    \n",
    "    if len(group_yes) > 0 and len(group_no) > 0:\n",
    "        stat, p = mannwhitneyu(group_yes, group_no, alternative='two-sided')\n",
    "        results[col] = {\n",
    "            'U-statistic': round(stat, 3),\n",
    "            'p-value': round(p, 5),\n",
    "            'Chance of randomness (%)': round(p * 100, 2)\n",
    "        }\n",
    "    else:\n",
    "        results[col] = {\n",
    "            'U-statistic': None,\n",
    "            'p-value': None,\n",
    "            'Chance of randomness (%)': None\n",
    "        }\n",
    "\n",
    "pd.DataFrame(results).T.sort_values('p-value')"
   ]
  },
  {
   "cell_type": "markdown",
   "id": "5ba64af3-d0e1-40ea-9f42-95f00348d84c",
   "metadata": {},
   "source": [
    "- Pulse rate, CRP, BMI, and Platelet count show higher correlation and low p-values, which means they are consistently elevated in women diagnosed with GDM. These could be strong early indicators.\n",
    "- Blood pressure values, ALT, and Albumin also show some difference, though not as strong—they may help as supporting features in prediction.\n",
    "- Hemoglobin and Creatinine have very low correlation and high p-values, so they likely don’t relate to GDM in your data.\n",
    "- The chance of randomness (based on p-value) is low for the top features, which means it’s unlikely that these differences happened by accident. That gives more confidence in using them for early GDM prediction\n"
   ]
  },
  {
   "cell_type": "code",
   "execution_count": null,
   "id": "b3dad83e-4b32-4844-8eca-432acd9d01e9",
   "metadata": {},
   "outputs": [],
   "source": [
    "Checking for the Categorical values"
   ]
  },
  {
   "cell_type": "code",
   "execution_count": 88,
   "id": "86e9abc0-7268-4e10-9952-dbbf222b17bd",
   "metadata": {},
   "outputs": [
    {
     "name": "stdout",
     "output_type": "stream",
     "text": [
      "                               Chi2        p-value\n",
      "Nutritional counselling  512.854705  4.315348e-112\n",
      "GestationalHP            495.051278  7.876842e-106\n",
      "PreviousGDM10 V1          24.557809   4.648786e-06\n",
      "Took Vit D Supplements    12.357633   1.488082e-02\n",
      "Vit D Deficiency           8.240258   1.624242e-02\n",
      "HighRisk                   4.013410   1.344309e-01\n",
      "Age_gt_30                  3.405225   1.822069e-01\n",
      "Smoking 123                5.992763   4.240013e-01\n",
      "Chronic Illness            0.714893   6.994601e-01\n"
     ]
    }
   ],
   "source": [
    "# Define binary health markers and outcome\n",
    "markers = ['Age_gt_30', 'Vit D Deficiency', 'Smoking 123','PreviousGDM10 V1','Nutritional counselling','HighRisk','Chronic Illness','GestationalHP','Took Vit D Supplements']\n",
    "results = {}\n",
    "\n",
    "for marker in markers:\n",
    "    # Create contingency table\n",
    "    contingency = pd.crosstab(df[marker], df['GDM Diagonised'])\n",
    "    \n",
    "    # Run chi-squared test\n",
    "    chi2, p, dof, expected = chi2_contingency(contingency)\n",
    "    results[marker] = {'Chi2': chi2, 'p-value': p}\n",
    "\n",
    "# Convert to DataFrame for a cleaner view\n",
    "correlation_df = pd.DataFrame(results).T\n",
    "print(correlation_df.sort_values('p-value'))"
   ]
  },
  {
   "cell_type": "markdown",
   "id": "6acd9b11-9cb9-475c-9fbb-d1db679541b7",
   "metadata": {},
   "source": [
    "- Use Nutritional Counselling, Previous GDM, and Vitamin D Deficiency confidently in your early prediction models.\n",
    "- Keep Age and HighRisk flags as possibly relevant"
   ]
  },
  {
   "cell_type": "code",
   "execution_count": 203,
   "id": "e7834fc5-b999-4883-8027-26f477ab8884",
   "metadata": {},
   "outputs": [],
   "source": [
    "selected_columns = ['systolicBP_V1', 'diastolicBP_V1', 'PulseinV1', 'BMIinV1', \n",
    "                    'Smoking 123', 'PreviousGDM10 V1', 'Chronic Illness', 'Age_gt_30',\n",
    "                    'Platelet_V1', 'Albumin_V1', 'U Albumin_V1', 'U Protein_V1',\n",
    "                    'ALT_V1', 'V1 CRP.1', 'Vit D Deficiency','HighRisk','GestationalHP', \n",
    "                    'Took Vit D Supplements', 'Nutritional counselling','GDM Diagonised']\n",
    "\n",
    "df_final = df[selected_columns]\n"
   ]
  },
  {
   "cell_type": "code",
   "execution_count": 205,
   "id": "4b26571a-5472-4c6b-884a-c5fefc12ea73",
   "metadata": {},
   "outputs": [
    {
     "data": {
      "text/plain": [
       "(565, 20)"
      ]
     },
     "execution_count": 205,
     "metadata": {},
     "output_type": "execute_result"
    }
   ],
   "source": [
    "df_final.shape"
   ]
  },
  {
   "cell_type": "code",
   "execution_count": 207,
   "id": "48e0388e-603f-4514-9b7d-a4ae70897550",
   "metadata": {},
   "outputs": [],
   "source": [
    "# Filter rows where GDM was diagnosed\n",
    "gdm_positive_df = df_final [df_final['GDM Diagonised'] == 'Yes']\n"
   ]
  },
  {
   "cell_type": "code",
   "execution_count": 209,
   "id": "934de6c1-e56f-479a-98b6-5014142cba05",
   "metadata": {},
   "outputs": [
    {
     "data": {
      "text/plain": [
       "systolicBP_V1               0\n",
       "diastolicBP_V1              0\n",
       "PulseinV1                   0\n",
       "BMIinV1                     0\n",
       "Smoking 123                 0\n",
       "PreviousGDM10 V1            0\n",
       "Chronic Illness             0\n",
       "Age_gt_30                   0\n",
       "Platelet_V1                 0\n",
       "Albumin_V1                 27\n",
       "U Albumin_V1               34\n",
       "U Protein_V1                0\n",
       "ALT_V1                      7\n",
       "V1 CRP.1                   11\n",
       "Vit D Deficiency            0\n",
       "HighRisk                    0\n",
       "GestationalHP               0\n",
       "Took Vit D Supplements      0\n",
       "Nutritional counselling     0\n",
       "GDM Diagonised              0\n",
       "dtype: int64"
      ]
     },
     "execution_count": 209,
     "metadata": {},
     "output_type": "execute_result"
    }
   ],
   "source": [
    "gdm_positive_df.isna().sum()"
   ]
  },
  {
   "cell_type": "code",
   "execution_count": 211,
   "id": "7280a1f0-f7e5-4cc5-9adc-7171ddd338b5",
   "metadata": {},
   "outputs": [
    {
     "data": {
      "text/plain": [
       "(74, 20)"
      ]
     },
     "execution_count": 211,
     "metadata": {},
     "output_type": "execute_result"
    }
   ],
   "source": [
    "gdm_positive_df.shape"
   ]
  },
  {
   "cell_type": "code",
   "execution_count": 215,
   "id": "fb6775ea-e9f1-4e5b-b252-f012bc5ae3b4",
   "metadata": {},
   "outputs": [
    {
     "name": "stdout",
     "output_type": "stream",
     "text": [
      "['systolicBP_V1', 'diastolicBP_V1', 'PulseinV1', 'PreviousGDM10 V1', 'Chronic Illness', 'HighRisk']\n"
     ]
    }
   ],
   "source": [
    "# Step 1: Get object-type columns\n",
    "object_cols = df_final.select_dtypes(include='object').columns\n",
    "\n",
    "# Step 2: Convert each to string, then apply label encoding to get integers\n",
    "from sklearn.preprocessing import LabelEncoder\n",
    "\n",
    "df_final = df_final.copy()  # Just to be safe\n",
    "for col in object_cols:\n",
    "    df_final.loc[:, col] = df_final[col].astype(str)\n",
    "    le = LabelEncoder()\n",
    "    df_final.loc[:, col] = le.fit_transform(df_final[col])\n",
    "\n",
    "# Step 3: Confirm that the converted columns are now integers\n",
    "int_cols = df_final.select_dtypes(include='int').columns.to_list()\n",
    "print(int_cols)"
   ]
  },
  {
   "cell_type": "code",
   "execution_count": 217,
   "id": "c918800e-91fe-41de-9bdc-c5255c2d33f6",
   "metadata": {},
   "outputs": [
    {
     "name": "stdout",
     "output_type": "stream",
     "text": [
      "Mapping for 'Smoking 123': {'0': 0, '1': 1, '2': 2, '3': 3}\n",
      "Mapping for 'Age_gt_30': {'0': 0, '1': 1}\n",
      "Mapping for 'Vit D Deficiency': {'0': 0, '1': 1}\n",
      "Mapping for 'GestationalHP': {'0': 0, '1': 1, '2': 2}\n",
      "Mapping for 'Took Vit D Supplements': {'0': 0, '1': 1, '2': 2}\n",
      "Mapping for 'Nutritional counselling': {'0': 0, '1': 1}\n",
      "Mapping for 'GDM Diagonised': {'0': 0, '1': 1, '2': 2}\n"
     ]
    }
   ],
   "source": [
    "from sklearn.preprocessing import LabelEncoder\n",
    "\n",
    "# Columns to convert to integers\n",
    "object_columns = [\n",
    "    'Smoking 123',\n",
    "    'Age_gt_30',\n",
    "    'Vit D Deficiency',\n",
    "    'GestationalHP',\n",
    "    'Took Vit D Supplements',\n",
    "    'Nutritional counselling',\n",
    "    'GDM Diagonised'\n",
    "]\n",
    "\n",
    "# Dictionary to store label mappings\n",
    "label_mappings = {}\n",
    "\n",
    "# Apply encoding\n",
    "for col in object_columns:\n",
    "    df_final.loc[:, col] = df_final[col].astype(str)  # ensure all values are strings\n",
    "    le = LabelEncoder()\n",
    "    df_final.loc[:, col] = le.fit_transform(df_final[col])\n",
    "    label_mappings[col] = dict(zip(le.classes_, le.transform(le.classes_)))\n",
    "\n",
    "# Print the mappings (optional)\n",
    "for col, mapping in label_mappings.items():\n",
    "    print(f\"Mapping for '{col}': {mapping}\")"
   ]
  },
  {
   "cell_type": "code",
   "execution_count": 225,
   "id": "aec5f364-e841-41c8-8343-8f8be88a94e5",
   "metadata": {},
   "outputs": [
    {
     "data": {
      "text/html": [
       "<div>\n",
       "<style scoped>\n",
       "    .dataframe tbody tr th:only-of-type {\n",
       "        vertical-align: middle;\n",
       "    }\n",
       "\n",
       "    .dataframe tbody tr th {\n",
       "        vertical-align: top;\n",
       "    }\n",
       "\n",
       "    .dataframe thead th {\n",
       "        text-align: right;\n",
       "    }\n",
       "</style>\n",
       "<table border=\"1\" class=\"dataframe\">\n",
       "  <thead>\n",
       "    <tr style=\"text-align: right;\">\n",
       "      <th></th>\n",
       "      <th>systolicBP_V1</th>\n",
       "      <th>diastolicBP_V1</th>\n",
       "      <th>PulseinV1</th>\n",
       "      <th>BMIinV1</th>\n",
       "      <th>Smoking 123</th>\n",
       "      <th>PreviousGDM10 V1</th>\n",
       "      <th>Chronic Illness</th>\n",
       "      <th>Age_gt_30</th>\n",
       "      <th>Platelet_V1</th>\n",
       "      <th>Albumin_V1</th>\n",
       "      <th>U Albumin_V1</th>\n",
       "      <th>U Protein_V1</th>\n",
       "      <th>ALT_V1</th>\n",
       "      <th>V1 CRP.1</th>\n",
       "      <th>Vit D Deficiency</th>\n",
       "      <th>HighRisk</th>\n",
       "      <th>GestationalHP</th>\n",
       "      <th>Took Vit D Supplements</th>\n",
       "      <th>Nutritional counselling</th>\n",
       "      <th>GDM Diagonised</th>\n",
       "    </tr>\n",
       "  </thead>\n",
       "  <tbody>\n",
       "    <tr>\n",
       "      <th>0</th>\n",
       "      <td>114</td>\n",
       "      <td>58</td>\n",
       "      <td>73</td>\n",
       "      <td>20.650699</td>\n",
       "      <td>3</td>\n",
       "      <td>0</td>\n",
       "      <td>0</td>\n",
       "      <td>1</td>\n",
       "      <td>203.0</td>\n",
       "      <td>NaN</td>\n",
       "      <td>300.0</td>\n",
       "      <td>0.02</td>\n",
       "      <td>10.0</td>\n",
       "      <td>0.45</td>\n",
       "      <td>0</td>\n",
       "      <td>0</td>\n",
       "      <td>0</td>\n",
       "      <td>0</td>\n",
       "      <td>0</td>\n",
       "      <td>1</td>\n",
       "    </tr>\n",
       "    <tr>\n",
       "      <th>1</th>\n",
       "      <td>178</td>\n",
       "      <td>78</td>\n",
       "      <td>84</td>\n",
       "      <td>29.215625</td>\n",
       "      <td>3</td>\n",
       "      <td>0</td>\n",
       "      <td>0</td>\n",
       "      <td>1</td>\n",
       "      <td>233.0</td>\n",
       "      <td>NaN</td>\n",
       "      <td>NaN</td>\n",
       "      <td>0.09</td>\n",
       "      <td>12.0</td>\n",
       "      <td>0.10</td>\n",
       "      <td>0</td>\n",
       "      <td>0</td>\n",
       "      <td>0</td>\n",
       "      <td>0</td>\n",
       "      <td>1</td>\n",
       "      <td>2</td>\n",
       "    </tr>\n",
       "    <tr>\n",
       "      <th>2</th>\n",
       "      <td>123</td>\n",
       "      <td>62</td>\n",
       "      <td>79</td>\n",
       "      <td>26.063378</td>\n",
       "      <td>3</td>\n",
       "      <td>0</td>\n",
       "      <td>0</td>\n",
       "      <td>1</td>\n",
       "      <td>330.0</td>\n",
       "      <td>NaN</td>\n",
       "      <td>NaN</td>\n",
       "      <td>0.10</td>\n",
       "      <td>15.0</td>\n",
       "      <td>1.15</td>\n",
       "      <td>0</td>\n",
       "      <td>0</td>\n",
       "      <td>0</td>\n",
       "      <td>0</td>\n",
       "      <td>0</td>\n",
       "      <td>1</td>\n",
       "    </tr>\n",
       "    <tr>\n",
       "      <th>3</th>\n",
       "      <td>115</td>\n",
       "      <td>68</td>\n",
       "      <td>82</td>\n",
       "      <td>24.736333</td>\n",
       "      <td>2</td>\n",
       "      <td>0</td>\n",
       "      <td>0</td>\n",
       "      <td>0</td>\n",
       "      <td>253.0</td>\n",
       "      <td>NaN</td>\n",
       "      <td>300.0</td>\n",
       "      <td>0.03</td>\n",
       "      <td>12.0</td>\n",
       "      <td>0.22</td>\n",
       "      <td>0</td>\n",
       "      <td>0</td>\n",
       "      <td>0</td>\n",
       "      <td>0</td>\n",
       "      <td>0</td>\n",
       "      <td>1</td>\n",
       "    </tr>\n",
       "    <tr>\n",
       "      <th>4</th>\n",
       "      <td>116</td>\n",
       "      <td>61</td>\n",
       "      <td>92</td>\n",
       "      <td>23.383904</td>\n",
       "      <td>2</td>\n",
       "      <td>0</td>\n",
       "      <td>0</td>\n",
       "      <td>1</td>\n",
       "      <td>217.0</td>\n",
       "      <td>NaN</td>\n",
       "      <td>300.0</td>\n",
       "      <td>0.05</td>\n",
       "      <td>9.0</td>\n",
       "      <td>0.41</td>\n",
       "      <td>0</td>\n",
       "      <td>0</td>\n",
       "      <td>0</td>\n",
       "      <td>0</td>\n",
       "      <td>0</td>\n",
       "      <td>1</td>\n",
       "    </tr>\n",
       "  </tbody>\n",
       "</table>\n",
       "</div>"
      ],
      "text/plain": [
       "   systolicBP_V1  diastolicBP_V1  PulseinV1    BMIinV1 Smoking 123  \\\n",
       "0            114              58         73  20.650699           3   \n",
       "1            178              78         84  29.215625           3   \n",
       "2            123              62         79  26.063378           3   \n",
       "3            115              68         82  24.736333           2   \n",
       "4            116              61         92  23.383904           2   \n",
       "\n",
       "   PreviousGDM10 V1  Chronic Illness Age_gt_30  Platelet_V1  Albumin_V1  \\\n",
       "0                 0                0         1        203.0         NaN   \n",
       "1                 0                0         1        233.0         NaN   \n",
       "2                 0                0         1        330.0         NaN   \n",
       "3                 0                0         0        253.0         NaN   \n",
       "4                 0                0         1        217.0         NaN   \n",
       "\n",
       "   U Albumin_V1  U Protein_V1  ALT_V1  V1 CRP.1 Vit D Deficiency  HighRisk  \\\n",
       "0         300.0          0.02    10.0      0.45                0         0   \n",
       "1           NaN          0.09    12.0      0.10                0         0   \n",
       "2           NaN          0.10    15.0      1.15                0         0   \n",
       "3         300.0          0.03    12.0      0.22                0         0   \n",
       "4         300.0          0.05     9.0      0.41                0         0   \n",
       "\n",
       "  GestationalHP Took Vit D Supplements Nutritional counselling GDM Diagonised  \n",
       "0             0                      0                       0              1  \n",
       "1             0                      0                       1              2  \n",
       "2             0                      0                       0              1  \n",
       "3             0                      0                       0              1  \n",
       "4             0                      0                       0              1  "
      ]
     },
     "execution_count": 225,
     "metadata": {},
     "output_type": "execute_result"
    }
   ],
   "source": [
    " df_final.head()"
   ]
  },
  {
   "cell_type": "code",
   "execution_count": 185,
   "id": "f7ecae00-93dd-472b-a640-96b8cd462b92",
   "metadata": {},
   "outputs": [
    {
     "name": "stdout",
     "output_type": "stream",
     "text": [
      "             Feature         VIF\n",
      "0              const  460.285607\n",
      "1      systolicBP_V1    1.474383\n",
      "2     diastolicBP_V1    1.433343\n",
      "3          PulseinV1    1.134141\n",
      "4            BMIinV1    1.605460\n",
      "5   PreviousGDM10 V1    2.350795\n",
      "6    Chronic Illness    1.066114\n",
      "7        Platelet_V1    1.065271\n",
      "8         Albumin_V1    1.103865\n",
      "9       U Albumin_V1    1.103513\n",
      "10      U Protein_V1    1.088296\n",
      "11            ALT_V1    1.044426\n",
      "12          V1 CRP.1    1.486555\n",
      "13          HighRisk    2.375579\n"
     ]
    }
   ],
   "source": [
    "from statsmodels.tools.tools import add_constant\n",
    "from statsmodels.stats.outliers_influence import variance_inflation_factor\n",
    "\n",
    "# 1. Select only numeric columns to avoid type issues\n",
    "df_numeric = df_final.select_dtypes(include=['number'])\n",
    "\n",
    "# 2. Drop any remaining NaNs just in case\n",
    "df_numeric = df_numeric.dropna()\n",
    "\n",
    "# 3. Add intercept term\n",
    "X = add_constant(df_numeric)\n",
    "\n",
    "# 4. Compute VIFs\n",
    "vif_data = pd.DataFrame()\n",
    "vif_data[\"Feature\"] = X.columns\n",
    "vif_data[\"VIF\"] = [variance_inflation_factor(X.values, i) for i in range(X.shape[1])]\n",
    "\n",
    "# 5. Display results\n",
    "print(vif_data)"
   ]
  },
  {
   "cell_type": "code",
   "execution_count": 231,
   "id": "08d5a569-c9f4-4dfe-810f-f2f363654226",
   "metadata": {},
   "outputs": [
    {
     "data": {
      "text/plain": [
       "systolicBP_V1                0\n",
       "diastolicBP_V1               0\n",
       "PulseinV1                    0\n",
       "BMIinV1                      0\n",
       "Smoking 123                  0\n",
       "PreviousGDM10 V1             0\n",
       "Chronic Illness              0\n",
       "Age_gt_30                    0\n",
       "Platelet_V1                  1\n",
       "Albumin_V1                 284\n",
       "U Albumin_V1               264\n",
       "U Protein_V1                 4\n",
       "ALT_V1                      42\n",
       "V1 CRP.1                    56\n",
       "Vit D Deficiency             0\n",
       "HighRisk                     0\n",
       "GestationalHP                0\n",
       "Took Vit D Supplements       0\n",
       "Nutritional counselling      0\n",
       "GDM Diagonised               0\n",
       "dtype: int64"
      ]
     },
     "execution_count": 231,
     "metadata": {},
     "output_type": "execute_result"
    }
   ],
   "source": [
    "df_final.isna().sum()"
   ]
  },
  {
   "cell_type": "code",
   "execution_count": 181,
   "id": "edb8d895-4882-4554-bf86-fb75b681f32b",
   "metadata": {},
   "outputs": [
    {
     "data": {
      "text/plain": [
       "Index(['const', 'systolicBP_V1', 'diastolicBP_V1', 'PulseinV1', 'BMIinV1',\n",
       "       'PreviousGDM10 V1', 'Chronic Illness', 'Platelet_V1', 'Albumin_V1',\n",
       "       'U Albumin_V1', 'U Protein_V1', 'ALT_V1', 'V1 CRP.1', 'HighRisk'],\n",
       "      dtype='object')"
      ]
     },
     "execution_count": 181,
     "metadata": {},
     "output_type": "execute_result"
    }
   ],
   "source": [
    "X.columns"
   ]
  },
  {
   "cell_type": "code",
   "execution_count": 183,
   "id": "97f96b52-9a24-4a0c-ab73-dcab92c115a2",
   "metadata": {},
   "outputs": [
    {
     "data": {
      "text/plain": [
       "Index(['systolicBP_V1', 'diastolicBP_V1', 'PulseinV1', 'BMIinV1',\n",
       "       'Smoking 123', 'PreviousGDM10 V1', 'Chronic Illness', 'Age_gt_30',\n",
       "       'Platelet_V1', 'Albumin_V1', 'U Albumin_V1', 'U Protein_V1', 'ALT_V1',\n",
       "       'V1 CRP.1', 'Vit D Deficiency', 'HighRisk', 'GestationalHP',\n",
       "       'Took Vit D Supplements', 'Nutritional counselling', 'GDM Diagonised'],\n",
       "      dtype='object')"
      ]
     },
     "execution_count": 183,
     "metadata": {},
     "output_type": "execute_result"
    }
   ],
   "source": [
    "df_final.columns"
   ]
  },
  {
   "cell_type": "code",
   "execution_count": 187,
   "id": "2cfc4110-b27a-4eda-acaf-56783d1312fd",
   "metadata": {},
   "outputs": [
    {
     "data": {
      "text/html": [
       "<div>\n",
       "<style scoped>\n",
       "    .dataframe tbody tr th:only-of-type {\n",
       "        vertical-align: middle;\n",
       "    }\n",
       "\n",
       "    .dataframe tbody tr th {\n",
       "        vertical-align: top;\n",
       "    }\n",
       "\n",
       "    .dataframe thead th {\n",
       "        text-align: right;\n",
       "    }\n",
       "</style>\n",
       "<table border=\"1\" class=\"dataframe\">\n",
       "  <thead>\n",
       "    <tr style=\"text-align: right;\">\n",
       "      <th></th>\n",
       "      <th>Feature</th>\n",
       "      <th>VIF</th>\n",
       "    </tr>\n",
       "  </thead>\n",
       "  <tbody>\n",
       "    <tr>\n",
       "      <th>0</th>\n",
       "      <td>const</td>\n",
       "      <td>460.285607</td>\n",
       "    </tr>\n",
       "    <tr>\n",
       "      <th>1</th>\n",
       "      <td>systolicBP_V1</td>\n",
       "      <td>1.474383</td>\n",
       "    </tr>\n",
       "    <tr>\n",
       "      <th>2</th>\n",
       "      <td>diastolicBP_V1</td>\n",
       "      <td>1.433343</td>\n",
       "    </tr>\n",
       "    <tr>\n",
       "      <th>3</th>\n",
       "      <td>PulseinV1</td>\n",
       "      <td>1.134141</td>\n",
       "    </tr>\n",
       "    <tr>\n",
       "      <th>4</th>\n",
       "      <td>BMIinV1</td>\n",
       "      <td>1.605460</td>\n",
       "    </tr>\n",
       "    <tr>\n",
       "      <th>5</th>\n",
       "      <td>PreviousGDM10 V1</td>\n",
       "      <td>2.350795</td>\n",
       "    </tr>\n",
       "    <tr>\n",
       "      <th>6</th>\n",
       "      <td>Chronic Illness</td>\n",
       "      <td>1.066114</td>\n",
       "    </tr>\n",
       "    <tr>\n",
       "      <th>7</th>\n",
       "      <td>Platelet_V1</td>\n",
       "      <td>1.065271</td>\n",
       "    </tr>\n",
       "    <tr>\n",
       "      <th>8</th>\n",
       "      <td>Albumin_V1</td>\n",
       "      <td>1.103865</td>\n",
       "    </tr>\n",
       "    <tr>\n",
       "      <th>9</th>\n",
       "      <td>U Albumin_V1</td>\n",
       "      <td>1.103513</td>\n",
       "    </tr>\n",
       "    <tr>\n",
       "      <th>10</th>\n",
       "      <td>U Protein_V1</td>\n",
       "      <td>1.088296</td>\n",
       "    </tr>\n",
       "    <tr>\n",
       "      <th>11</th>\n",
       "      <td>ALT_V1</td>\n",
       "      <td>1.044426</td>\n",
       "    </tr>\n",
       "    <tr>\n",
       "      <th>12</th>\n",
       "      <td>V1 CRP.1</td>\n",
       "      <td>1.486555</td>\n",
       "    </tr>\n",
       "    <tr>\n",
       "      <th>13</th>\n",
       "      <td>HighRisk</td>\n",
       "      <td>2.375579</td>\n",
       "    </tr>\n",
       "  </tbody>\n",
       "</table>\n",
       "</div>"
      ],
      "text/plain": [
       "             Feature         VIF\n",
       "0              const  460.285607\n",
       "1      systolicBP_V1    1.474383\n",
       "2     diastolicBP_V1    1.433343\n",
       "3          PulseinV1    1.134141\n",
       "4            BMIinV1    1.605460\n",
       "5   PreviousGDM10 V1    2.350795\n",
       "6    Chronic Illness    1.066114\n",
       "7        Platelet_V1    1.065271\n",
       "8         Albumin_V1    1.103865\n",
       "9       U Albumin_V1    1.103513\n",
       "10      U Protein_V1    1.088296\n",
       "11            ALT_V1    1.044426\n",
       "12          V1 CRP.1    1.486555\n",
       "13          HighRisk    2.375579"
      ]
     },
     "execution_count": 187,
     "metadata": {},
     "output_type": "execute_result"
    }
   ],
   "source": [
    "vif_data "
   ]
  },
  {
   "cell_type": "code",
   "execution_count": 193,
   "id": "a81b296b-a729-464d-8831-6a910c60e2bd",
   "metadata": {},
   "outputs": [
    {
     "data": {
      "text/plain": [
       "(164, 13)"
      ]
     },
     "execution_count": 193,
     "metadata": {},
     "output_type": "execute_result"
    }
   ],
   "source": [
    "df_numeric.shape"
   ]
  },
  {
   "cell_type": "code",
   "execution_count": 195,
   "id": "6c91faa2-d09b-4693-9b6f-0e469d19f532",
   "metadata": {},
   "outputs": [
    {
     "data": {
      "text/plain": [
       "systolicBP_V1         int64\n",
       "diastolicBP_V1        int64\n",
       "PulseinV1             int64\n",
       "BMIinV1             float64\n",
       "PreviousGDM10 V1      int64\n",
       "Chronic Illness       int64\n",
       "Platelet_V1         float64\n",
       "Albumin_V1          float64\n",
       "U Albumin_V1        float64\n",
       "U Protein_V1        float64\n",
       "ALT_V1              float64\n",
       "V1 CRP.1            float64\n",
       "HighRisk              int64\n",
       "dtype: object"
      ]
     },
     "execution_count": 195,
     "metadata": {},
     "output_type": "execute_result"
    }
   ],
   "source": [
    "df_numeric.dtypes"
   ]
  },
  {
   "cell_type": "code",
   "execution_count": 201,
   "id": "7d91394f-829d-4ee8-b054-bb17da0d440b",
   "metadata": {},
   "outputs": [
    {
     "data": {
      "text/plain": [
       "systolicBP_V1                int64\n",
       "diastolicBP_V1               int64\n",
       "PulseinV1                    int64\n",
       "BMIinV1                    float64\n",
       "Smoking 123                 object\n",
       "PreviousGDM10 V1             int64\n",
       "Chronic Illness              int64\n",
       "Age_gt_30                   object\n",
       "Platelet_V1                float64\n",
       "Albumin_V1                 float64\n",
       "U Albumin_V1               float64\n",
       "U Protein_V1               float64\n",
       "ALT_V1                     float64\n",
       "V1 CRP.1                   float64\n",
       "Vit D Deficiency            object\n",
       "HighRisk                     int64\n",
       "GestationalHP               object\n",
       "Took Vit D Supplements      object\n",
       "Nutritional counselling     object\n",
       "GDM Diagonised              object\n",
       "dtype: object"
      ]
     },
     "execution_count": 201,
     "metadata": {},
     "output_type": "execute_result"
    }
   ],
   "source": [
    "df_final.dtypes"
   ]
  },
  {
   "cell_type": "code",
   "execution_count": null,
   "id": "b523c87f-91c0-4729-a8eb-23b4918b488b",
   "metadata": {},
   "outputs": [],
   "source": []
  }
 ],
 "metadata": {
  "kernelspec": {
   "display_name": "Python 3 (ipykernel)",
   "language": "python",
   "name": "python3"
  },
  "language_info": {
   "codemirror_mode": {
    "name": "ipython",
    "version": 3
   },
   "file_extension": ".py",
   "mimetype": "text/x-python",
   "name": "python",
   "nbconvert_exporter": "python",
   "pygments_lexer": "ipython3",
   "version": "3.11.7"
  }
 },
 "nbformat": 4,
 "nbformat_minor": 5
}
