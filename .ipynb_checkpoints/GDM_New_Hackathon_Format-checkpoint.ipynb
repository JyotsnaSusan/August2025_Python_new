{
 "cells": [
  {
   "cell_type": "code",
   "execution_count": 1,
   "id": "0dadb170-826c-49d8-b62a-6cfcf7b19b6f",
   "metadata": {
    "tags": []
   },
   "outputs": [],
   "source": [
    "import pandas as pd\n",
    "import numpy as np\n",
    "import matplotlib.pyplot as plt\n",
    "import seaborn as sns\n",
    "\n",
    "import warnings\n",
    "warnings.simplefilter(\"ignore\", UserWarning)"
   ]
  },
  {
   "cell_type": "code",
   "execution_count": 2,
   "id": "ce2eee58-1fe5-459f-b187-b0053a400124",
   "metadata": {
    "tags": []
   },
   "outputs": [],
   "source": [
    "dfGDData=pd.read_excel(\"Gestational Diabetes Data.xlsx\",sheet_name = \"Data\")"
   ]
  },
  {
   "cell_type": "markdown",
   "id": "279c7ab5-1c9e-41b8-b4f7-ee906113a7a0",
   "metadata": {},
   "source": [
    "<p style=\"font-family: Cambria; text-align: center; font-size: 48px;\">  I. DATA PRE-PROCESSING</p>"
   ]
  },
  {
   "cell_type": "markdown",
   "id": "fb5fa62b-f1d1-462f-bf4e-c33dc75a215a",
   "metadata": {},
   "source": [
    "<p style=\"font-family: Cambria; font-size: 16px;\">\n",
    "  1. We removed all columns that could be derived from other columns through a simple calculation. For eg: <br>\n",
    "  GCT 1h value &gt;7.5mM,<br>\n",
    "  GCT 1h value &gt;7.5mM 10,<br>\n",
    "  GCT 1h value &gt;7.8mM 10<br>\n",
    "  Are all derived from the column 1h glucose. Therefore, only 1h glucose is needed in our final table. This reduces our final set of variables to a shorter, more readable list with no loss of information. The full list of removal under this category is given in the code below.\n",
    "</p>"
   ]
  },
  {
   "cell_type": "code",
   "execution_count": 3,
   "id": "25d0afd2-3e1a-4ba0-8b08-5f3b443b06ad",
   "metadata": {
    "tags": []
   },
   "outputs": [],
   "source": [
    "dfGDData.drop(columns=['GCT10 2', 'Height (m) V1','BMI V1','Smoking','Smoking 10 V1','White 10 V1','Previous GDM V1','Meds 10 V1','Age >30 10','BMI (kg/m2) V1 2','BMI>30','Obese 10','Overweight 10','Overweight 123','Hx GDM, glycosuria, 1st degree rel','GCT 10','25OHD checked','25OHD 10'],axis=1,inplace=True)\n",
    "dfGDData.drop(columns=['Ref to psych','V1 HbA1c (mmol/mol)','V1 HBa1C <48 mmol/mol','V1 Hb','V1 Creatinine', 'V1 ALT','V1 CRP','V1 PCR','GCT10 screening visit','GCT','GCT 1h value >7.5mM','GCT 1h value >7.2mM 10', 'GCT 1h value >7.5mM 10', 'GCT 1h value >7.8mM 10','GCT Ref to DNS?','GCT Ref to DNS 10','OGTT performed','OGTT 10 V3'],inplace=True)\n",
    "dfGDData.drop(columns=['OGTT 0h value high 10','OGTT 1h value high 10','OGTT 1h value high 10.1','OGTT values high','OGTT high 10','GCT 1h value >7.5mM 10.1','GCT OGTT high 10','OGTT Ref to DNS 10','GCT Ref to DNS 10.1','Ref to DNS 10','Miscarriage before 28/40 2','Withdrew before 28/40 2'],axis=1,inplace=True)\n",
    "dfGDData.drop(columns=['V3 GA','Miscarried <28/40','Miscarried >28/40','V3 HbA1c','V3 Hb','V3 Creat','V3 CRP', 'V3 U PCR','V3 AC <35 cm','AC >350mm 10','m Weight (kg) V1','m Weight (kg) V3','Weight change','Weight change (%)','systolic BP (mmHg) V1.1','systolic BP (mmHg) V3.1','sBP change','BP change (%)'],inplace=True)\n",
    "dfGDData.drop(columns=['HbA1c change','HbA1c change >3 mmol/mol 10','HbA1c Change (%)','HbA1c rise >10%','HbA1c rise >5%','Hb change','Hb change (%)','Creat change','Creat change (%)','V3 ALT.1','ALT change','ALT change (%)','CRP change','CRP change (%)','PCR change','PCR change (%)'],axis=1,inplace=True)\n",
    "dfGDData.drop(columns=['Date of Data Collection.1','Miscarriage','Lost to f/u', 'Nutrition 10','Glucose lowering therapies','Gestational hypertension','Pre-eclampsia','Eclampsia','HELLP','HELLP 10','Induction','Instrumentation 10','Date of Delivery','Miscarriage before 28/40 v2','Miscarriage.1','Miscarriage after 28/40'],inplace=True)\n",
    "dfGDData.drop(columns=['Still-birth 10','Birth Injury','Birth weight >4kg', 'BW >4kg 10', 'BW >4.5kg 10', 'BW <2.5kg 10','Brachial plexus injury','Plexus injury 10','Other nerve injury','Clavicular fracture','Humeral fracture','Skull fracture','Other birth injury'],axis=1,inplace=True)\n",
    "dfGDData.drop(columns=['Perinatal death', 'Perinatal death 10', 'Fetal hypoglycaemia', 'Fetal hypoglycaemia 10', 'Fetal jaundice', 'Fetal phototherapy','Surfactant use','RR>60 10', 'SCBU','Cong malformation','Spina bifida','Cleft palate','Cleft Lip','Hydrocephalus','Cardiac murmur', 'Cardiac anomaly', 'Tetralogy of Fallot','Transposition of Great arteries', 'Septal defect', 'Other cardiac anomaly'],inplace=True)\n",
    "dfGDData.drop(columns=['Caesarean','Screened 10 2'], inplace=True)\n",
    "dfGDData.drop(columns=['Cause of fetal death','V1 U creatinine','V3 U Creat','Date 25OHD result received','Date Form Signed','Date Prescription sent?','Shoulder dystocia'], inplace=True)\n",
    "dfGDData.drop(columns=['Screened 10 3','GDM screening performed? V2','Screening DNA','Screened 10','Date Screening','Screening DNA 2','DNA Visit 3 10','Miscarriage before 28/40','Withdrew before 28/40'], inplace=True)"
   ]
  },
  {
   "cell_type": "markdown",
   "id": "39a33fca-7796-4042-9e33-2b70e6c797d7",
   "metadata": {},
   "source": [
    "<p style=\"font-family: Cambria; font-size: 16px;\"> 2. Removed all columns showing treatments provided to the fetus after birth that no longer fall under the mothers medical history. <br>For eg: Fetal phototherapy 10  is a column indicating if phototherapy was provided for babies with jaundice. We chose to preserve the field indicating fetal jaundice, but any further treatment of the baby would not reflect on the health of the mother.\n",
    "All columns that fall into this category are removed in the code given below:\n"
   ]
  },
  {
   "cell_type": "code",
   "execution_count": null,
   "id": "2fda1c63-2e1c-4e59-9a76-ceaac3132149",
   "metadata": {
    "tags": []
   },
   "outputs": [],
   "source": [
    "dfGDData.drop(columns=[ 'Fetal phototherapy 10','Insulin/Metformin','List used','Vit D List used','GDM screening performed?'], inplace=True)"
   ]
  },
  {
   "cell_type": "markdown",
   "id": "cb0c8451-1881-46aa-813f-f9b5fbf84bfc",
   "metadata": {},
   "source": [
    "3.Removed all columns that which did not relate directly or indirectly to the presence of high blood sugar or GDM. For eg: Number obstetric clinics might be useful in a larger dataset that shows that patients were more likely to get diagnosed and treated early, if there are clinics nearby. However, in our dataset, no such meaningful correlations seemed to exist"
   ]
  },
  {
   "cell_type": "code",
   "execution_count": 6,
   "id": "772b6f9f-0acc-4a28-a92c-7d4fcd0a789f",
   "metadata": {
    "tags": []
   },
   "outputs": [],
   "source": [
    "dfGDData.drop(columns=['Miscarried 10'], inplace=True)\n",
    "dfGDData.drop(columns=['Number obstetric clinics'], inplace=True)\n",
    "dfGDData.drop(columns=['OGTT Ref to DNS'], inplace=True)\n",
    "dfGDData.drop(columns=['PMHx V1'], inplace=True)\n",
    "dfGDData.drop(columns=['Ref to Psych'], inplace=True)\n",
    "dfGDData.drop(columns=['25OHD checked yes (1) or no (0)'], inplace=True)\n",
    "dfGDData.drop(columns=['Date of Data Collection'], inplace=True)\n",
    "dfGDData.drop(columns=['V3 Albumin'], inplace=True)"
   ]
  },
  {
   "cell_type": "markdown",
   "id": "ec0a0c3a-9f4d-4ddf-ab32-28a5c74fbe5c",
   "metadata": {},
   "source": [
    "4.Removed Alcohol intake V1 because of insufficient data with only one patient reported we can remove this column.\n"
   ]
  },
  {
   "cell_type": "code",
   "execution_count": 7,
   "id": "719153f5-b728-4a1e-b8f9-20beb1baa7ea",
   "metadata": {
    "tags": []
   },
   "outputs": [],
   "source": [
    "#Dropping unnecessary columns\n",
    "dfGDData.drop(['Alcohol Intake V1','Number GDM clinics'], axis=1,inplace=True)"
   ]
  },
  {
   "cell_type": "code",
   "execution_count": 8,
   "id": "42760cff-e05d-492f-a389-0d784e4fa4ad",
   "metadata": {
    "tags": []
   },
   "outputs": [
    {
     "name": "stdout",
     "output_type": "stream",
     "text": [
      "Number of columns: 95\n"
     ]
    }
   ],
   "source": [
    "num_columns = dfGDData.shape[1]\n",
    "print(f\"Number of columns: {num_columns}\")"
   ]
  },
  {
   "cell_type": "markdown",
   "id": "8b29c8f4-7c7d-42d4-9144-41fe75abde3d",
   "metadata": {},
   "source": [
    "5.Renamed  these columns as the original column names are verbose and inconsistent, so  standardizing them to cleaner, shorter, more technical identifiers. \n",
    "    'EDD in keeping with LMP?': 'EDDEqLMP',\n",
    "    'EDD estimation method': 'EDDMethod',\n",
    "    'LSCS 10': 'Caesarean',\n",
    "    'Ethnicity V1': 'Ethnicity',\n",
    "    'Fetal jaundice 10': 'FetalJaundice',\n",
    "    '1h glucose': 'Glucose_1h',\n",
    "    'GHP 10': 'GestationalHP',\n",
    "    'Glucose lowering therapy 10': 'GlucoseTherapy',\n",
    "    'V1 HbA1c (mmol/mol).1': 'HB1AC_V1',\n",
    "    'V3 HbA1c.1': 'HB1AC_V3',\n",
    "    'V1 Hb.1': 'Hemoglobin_V1',\n",
    "    'V3 Hb.1': 'Hemoglobin_V3',\n",
    "    'HbA1c V2': 'HB1AC_V2',\n",
    "    'Height (cm) V1': 'Height_cms',\n",
    "    'Induction 10': 'Labor_Induced',\n",
    "    'Instrumentation': 'Instrument_Delivery',\n",
    "    'Insulin 10': 'On_Insulin',\n",
    "    'Metformin 10': 'On_Metformin',\n",
    "    'Medications V1': 'Medications_All'"
   ]
  },
  {
   "cell_type": "code",
   "execution_count": 9,
   "id": "ee2b44a9-9689-486e-84f4-16e7f51c89c2",
   "metadata": {
    "tags": []
   },
   "outputs": [],
   "source": [
    "\n",
    "dfGDData.rename(columns={'EDD in keeping with LMP?': 'EDDEqLMP', 'EDD estimation method': 'EDDMethod','LSCS 10':'Caesarean','Ethnicity V1':'Ethnicity','Fetal jaundice 10':'FetalJaundice','1h glucose':'Glucose_1h'}, inplace=True)\n",
    "dfGDData.rename(columns={'GHP 10': 'GestationalHP', 'Glucose lowering therapy 10': 'GlucoseTherapy','V1 HbA1c (mmol/mol).1':'HB1AC_V1','V3 HbA1c.1':'HB1AC_V3','V1 Hb.1':'Hemoglobin_V1','V3 Hb.1':'Hemoglobin_V3','HbA1c V2':'HB1AC_V2'}, inplace=True)\n",
    "dfGDData.rename(columns={ 'Height (cm) V1': 'Height_cms', 'Induction 10': 'Labor_Induced','Instrumentation':'Instrument_Delivery', 'Insulin 10':'On_Insulin','Metformin 10':'On_Metformin','Medications V1':'Medications_All'}, inplace=True)"
   ]
  },
  {
   "cell_type": "markdown",
   "id": "70bd934b-8fd6-4250-8984-3c3b664576ee",
   "metadata": {},
   "source": [
    "6.Renamed these columns for better readability\n",
    "    'Chronic Illness V1': 'Chronic Illness',\n",
    "    'Cong malformation 10': 'Cong malformation',\n",
    "    'V1 Creatinine': 'Creatinine_V1',\n",
    "    'V3 Creat': 'Creatinine_V3',\n",
    "    'V1 CRP': 'CRP_V1',\n",
    "    'V3 CRP': 'CRP_V3'"
   ]
  },
  {
   "cell_type": "code",
   "execution_count": null,
   "id": "19394f16-5b29-4d70-b0ba-26f332b7259c",
   "metadata": {},
   "outputs": [],
   "source": [
    "#Renaming columns for better readability\n",
    "dfGDData.rename(columns={'Chronic Illness V1': 'Chronic Illness','Cong malformation 10':'Cong malformation','V1 Creatinine':'Creatinine_V1','V3 Creat':'Creatinine_V3','V1 CRP':'CRP_V1','V3 CRP':'CRP_V3'}, inplace=True)\n",
    "dfGDData.rename(columns={'Prescription for Caltrate sent?':'Caltrate','Delivered before 36/40 10':'Delivered before 36/40','Diagnosed with Vit D Deficiency':'Vit D Deficiency','Dystocia 10':'Dystocia'}, inplace=True)\n",
    "dfGDData.rename(columns={'Eclampsia 10':'Eclampsia','Pre-eclampsia 10':'Pre eclampsia'}, inplace=True)"
   ]
  },
  {
   "cell_type": "markdown",
   "id": "44e9fb55-2544-4bcd-99fd-991e1c3cd84c",
   "metadata": {},
   "source": [
    "7.If a column indicated the presence or absence of a test/procedure that was administered and contained null values. Then the null values were changed to ‘No’ to indicate that the test/procedure was not administered. For eg: All null values in the column Prescription for Caltrate sent? Were set to ‘No’ to indicate it was not sent\n",
    "\n"
   ]
  },
  {
   "cell_type": "code",
   "execution_count": 10,
   "id": "eddfbbe5-2966-4be7-a9f1-8b15ae5476aa",
   "metadata": {
    "tags": []
   },
   "outputs": [],
   "source": [
    "dfGDData['Emergency'].fillna('No',inplace=True)\n",
    "dfGDData['Epidural'].fillna('No',inplace=True)\n",
    "dfGDData['GlucoseTherapy'].fillna(0,inplace=True)"
   ]
  },
  {
   "cell_type": "code",
   "execution_count": 13,
   "id": "87a72580-a3c3-495c-af14-3462bd744330",
   "metadata": {
    "tags": []
   },
   "outputs": [
    {
     "ename": "KeyError",
     "evalue": "'Cong malformation'",
     "output_type": "error",
     "traceback": [
      "\u001b[1;31m---------------------------------------------------------------------------\u001b[0m",
      "\u001b[1;31mKeyError\u001b[0m                                  Traceback (most recent call last)",
      "File \u001b[1;32m~\\anaconda3\\Lib\\site-packages\\pandas\\core\\indexes\\base.py:3802\u001b[0m, in \u001b[0;36mIndex.get_loc\u001b[1;34m(self, key, method, tolerance)\u001b[0m\n\u001b[0;32m   3801\u001b[0m \u001b[38;5;28;01mtry\u001b[39;00m:\n\u001b[1;32m-> 3802\u001b[0m     \u001b[38;5;28;01mreturn\u001b[39;00m \u001b[38;5;28mself\u001b[39m\u001b[38;5;241m.\u001b[39m_engine\u001b[38;5;241m.\u001b[39mget_loc(casted_key)\n\u001b[0;32m   3803\u001b[0m \u001b[38;5;28;01mexcept\u001b[39;00m \u001b[38;5;167;01mKeyError\u001b[39;00m \u001b[38;5;28;01mas\u001b[39;00m err:\n",
      "File \u001b[1;32m~\\anaconda3\\Lib\\site-packages\\pandas\\_libs\\index.pyx:138\u001b[0m, in \u001b[0;36mpandas._libs.index.IndexEngine.get_loc\u001b[1;34m()\u001b[0m\n",
      "File \u001b[1;32m~\\anaconda3\\Lib\\site-packages\\pandas\\_libs\\index.pyx:165\u001b[0m, in \u001b[0;36mpandas._libs.index.IndexEngine.get_loc\u001b[1;34m()\u001b[0m\n",
      "File \u001b[1;32mpandas\\_libs\\hashtable_class_helper.pxi:5745\u001b[0m, in \u001b[0;36mpandas._libs.hashtable.PyObjectHashTable.get_item\u001b[1;34m()\u001b[0m\n",
      "File \u001b[1;32mpandas\\_libs\\hashtable_class_helper.pxi:5753\u001b[0m, in \u001b[0;36mpandas._libs.hashtable.PyObjectHashTable.get_item\u001b[1;34m()\u001b[0m\n",
      "\u001b[1;31mKeyError\u001b[0m: 'Cong malformation'",
      "\nThe above exception was the direct cause of the following exception:\n",
      "\u001b[1;31mKeyError\u001b[0m                                  Traceback (most recent call last)",
      "Cell \u001b[1;32mIn[13], line 1\u001b[0m\n\u001b[1;32m----> 1\u001b[0m dfGDData[\u001b[38;5;124m'\u001b[39m\u001b[38;5;124mCong malformation\u001b[39m\u001b[38;5;124m'\u001b[39m]\u001b[38;5;241m.\u001b[39mfillna(\u001b[38;5;241m0\u001b[39m,inplace\u001b[38;5;241m=\u001b[39m\u001b[38;5;28;01mTrue\u001b[39;00m)\n\u001b[0;32m      2\u001b[0m dfGDData[\u001b[38;5;124m'\u001b[39m\u001b[38;5;124mCaltrate\u001b[39m\u001b[38;5;124m'\u001b[39m]\u001b[38;5;241m.\u001b[39mfillna(\u001b[38;5;124m'\u001b[39m\u001b[38;5;124mNo\u001b[39m\u001b[38;5;124m'\u001b[39m,inplace\u001b[38;5;241m=\u001b[39m\u001b[38;5;28;01mTrue\u001b[39;00m)\n",
      "File \u001b[1;32m~\\anaconda3\\Lib\\site-packages\\pandas\\core\\frame.py:3807\u001b[0m, in \u001b[0;36mDataFrame.__getitem__\u001b[1;34m(self, key)\u001b[0m\n\u001b[0;32m   3805\u001b[0m \u001b[38;5;28;01mif\u001b[39;00m \u001b[38;5;28mself\u001b[39m\u001b[38;5;241m.\u001b[39mcolumns\u001b[38;5;241m.\u001b[39mnlevels \u001b[38;5;241m>\u001b[39m \u001b[38;5;241m1\u001b[39m:\n\u001b[0;32m   3806\u001b[0m     \u001b[38;5;28;01mreturn\u001b[39;00m \u001b[38;5;28mself\u001b[39m\u001b[38;5;241m.\u001b[39m_getitem_multilevel(key)\n\u001b[1;32m-> 3807\u001b[0m indexer \u001b[38;5;241m=\u001b[39m \u001b[38;5;28mself\u001b[39m\u001b[38;5;241m.\u001b[39mcolumns\u001b[38;5;241m.\u001b[39mget_loc(key)\n\u001b[0;32m   3808\u001b[0m \u001b[38;5;28;01mif\u001b[39;00m is_integer(indexer):\n\u001b[0;32m   3809\u001b[0m     indexer \u001b[38;5;241m=\u001b[39m [indexer]\n",
      "File \u001b[1;32m~\\anaconda3\\Lib\\site-packages\\pandas\\core\\indexes\\base.py:3804\u001b[0m, in \u001b[0;36mIndex.get_loc\u001b[1;34m(self, key, method, tolerance)\u001b[0m\n\u001b[0;32m   3802\u001b[0m     \u001b[38;5;28;01mreturn\u001b[39;00m \u001b[38;5;28mself\u001b[39m\u001b[38;5;241m.\u001b[39m_engine\u001b[38;5;241m.\u001b[39mget_loc(casted_key)\n\u001b[0;32m   3803\u001b[0m \u001b[38;5;28;01mexcept\u001b[39;00m \u001b[38;5;167;01mKeyError\u001b[39;00m \u001b[38;5;28;01mas\u001b[39;00m err:\n\u001b[1;32m-> 3804\u001b[0m     \u001b[38;5;28;01mraise\u001b[39;00m \u001b[38;5;167;01mKeyError\u001b[39;00m(key) \u001b[38;5;28;01mfrom\u001b[39;00m \u001b[38;5;21;01merr\u001b[39;00m\n\u001b[0;32m   3805\u001b[0m \u001b[38;5;28;01mexcept\u001b[39;00m \u001b[38;5;167;01mTypeError\u001b[39;00m:\n\u001b[0;32m   3806\u001b[0m     \u001b[38;5;66;03m# If we have a listlike key, _check_indexing_error will raise\u001b[39;00m\n\u001b[0;32m   3807\u001b[0m     \u001b[38;5;66;03m#  InvalidIndexError. Otherwise we fall through and re-raise\u001b[39;00m\n\u001b[0;32m   3808\u001b[0m     \u001b[38;5;66;03m#  the TypeError.\u001b[39;00m\n\u001b[0;32m   3809\u001b[0m     \u001b[38;5;28mself\u001b[39m\u001b[38;5;241m.\u001b[39m_check_indexing_error(key)\n",
      "\u001b[1;31mKeyError\u001b[0m: 'Cong malformation'"
     ]
    }
   ],
   "source": [
    "dfGDData['Cong malformation'].fillna(0,inplace=True)\n",
    "dfGDData['Caltrate'].fillna('No',inplace=True) "
   ]
  },
  {
   "cell_type": "markdown",
   "id": "1856f082-b7cc-49af-8596-2439b093eb5d",
   "metadata": {},
   "source": [
    "8.If a column (like ‘Caesarean’) contained a medical diagnoses  stored as  ‘Yes/No’, null values would be replaced with “NR” to  indicate that a medical diagnosis was “Not Recorded”"
   ]
  },
  {
   "cell_type": "code",
   "execution_count": 11,
   "id": "96e58bfb-838a-4819-960c-047e77240bc6",
   "metadata": {
    "tags": []
   },
   "outputs": [],
   "source": [
    "dfGDData['EDDEqLMP'].fillna('NR',inplace=True)\n",
    "dfGDData['EDDMethod'].fillna('NR',inplace=True)\n",
    "dfGDData['FetalJaundice'].fillna('NR',inplace=True)\n",
    "dfGDData['GestationalHP'].fillna('NR',inplace=True)\n",
    "dfGDData['Labor_Induced'].fillna('NR',inplace=True)\n",
    "dfGDData['Instrument_Delivery'].fillna('NR',inplace=True)\n",
    "dfGDData['On_Insulin'].fillna('NR',inplace=True)\n",
    "dfGDData['On_Metformin'].fillna('NR',inplace=True)\n",
    "dfGDData['Spinal'].fillna('NR',inplace=True)\n",
    "dfGDData['Caesarean'].fillna('NR',inplace=True)"
   ]
  },
  {
   "cell_type": "code",
   "execution_count": 12,
   "id": "4778f7a3-14a0-4a2b-aa6b-fa2b4cc113bb",
   "metadata": {
    "tags": []
   },
   "outputs": [
    {
     "ename": "KeyError",
     "evalue": "'Vit D Deficiency'",
     "output_type": "error",
     "traceback": [
      "\u001b[1;31m---------------------------------------------------------------------------\u001b[0m",
      "\u001b[1;31mKeyError\u001b[0m                                  Traceback (most recent call last)",
      "File \u001b[1;32m~\\anaconda3\\Lib\\site-packages\\pandas\\core\\indexes\\base.py:3802\u001b[0m, in \u001b[0;36mIndex.get_loc\u001b[1;34m(self, key, method, tolerance)\u001b[0m\n\u001b[0;32m   3801\u001b[0m \u001b[38;5;28;01mtry\u001b[39;00m:\n\u001b[1;32m-> 3802\u001b[0m     \u001b[38;5;28;01mreturn\u001b[39;00m \u001b[38;5;28mself\u001b[39m\u001b[38;5;241m.\u001b[39m_engine\u001b[38;5;241m.\u001b[39mget_loc(casted_key)\n\u001b[0;32m   3803\u001b[0m \u001b[38;5;28;01mexcept\u001b[39;00m \u001b[38;5;167;01mKeyError\u001b[39;00m \u001b[38;5;28;01mas\u001b[39;00m err:\n",
      "File \u001b[1;32m~\\anaconda3\\Lib\\site-packages\\pandas\\_libs\\index.pyx:138\u001b[0m, in \u001b[0;36mpandas._libs.index.IndexEngine.get_loc\u001b[1;34m()\u001b[0m\n",
      "File \u001b[1;32m~\\anaconda3\\Lib\\site-packages\\pandas\\_libs\\index.pyx:165\u001b[0m, in \u001b[0;36mpandas._libs.index.IndexEngine.get_loc\u001b[1;34m()\u001b[0m\n",
      "File \u001b[1;32mpandas\\_libs\\hashtable_class_helper.pxi:5745\u001b[0m, in \u001b[0;36mpandas._libs.hashtable.PyObjectHashTable.get_item\u001b[1;34m()\u001b[0m\n",
      "File \u001b[1;32mpandas\\_libs\\hashtable_class_helper.pxi:5753\u001b[0m, in \u001b[0;36mpandas._libs.hashtable.PyObjectHashTable.get_item\u001b[1;34m()\u001b[0m\n",
      "\u001b[1;31mKeyError\u001b[0m: 'Vit D Deficiency'",
      "\nThe above exception was the direct cause of the following exception:\n",
      "\u001b[1;31mKeyError\u001b[0m                                  Traceback (most recent call last)",
      "Cell \u001b[1;32mIn[12], line 1\u001b[0m\n\u001b[1;32m----> 1\u001b[0m dfGDData[\u001b[38;5;124m'\u001b[39m\u001b[38;5;124mVit D Deficiency\u001b[39m\u001b[38;5;124m'\u001b[39m]\u001b[38;5;241m.\u001b[39mfillna(\u001b[38;5;124m'\u001b[39m\u001b[38;5;124mNR\u001b[39m\u001b[38;5;124m'\u001b[39m,inplace\u001b[38;5;241m=\u001b[39m\u001b[38;5;28;01mTrue\u001b[39;00m)  \n\u001b[0;32m      2\u001b[0m dfGDData[\u001b[38;5;124m'\u001b[39m\u001b[38;5;124mEclampsia\u001b[39m\u001b[38;5;124m'\u001b[39m]\u001b[38;5;241m.\u001b[39mfillna(\u001b[38;5;124m'\u001b[39m\u001b[38;5;124mNR\u001b[39m\u001b[38;5;124m'\u001b[39m,inplace\u001b[38;5;241m=\u001b[39m\u001b[38;5;28;01mTrue\u001b[39;00m)\n\u001b[0;32m      3\u001b[0m dfGDData[\u001b[38;5;124m'\u001b[39m\u001b[38;5;124mPre eclampsia\u001b[39m\u001b[38;5;124m'\u001b[39m]\u001b[38;5;241m.\u001b[39mfillna(\u001b[38;5;124m'\u001b[39m\u001b[38;5;124mNR\u001b[39m\u001b[38;5;124m'\u001b[39m,inplace\u001b[38;5;241m=\u001b[39m\u001b[38;5;28;01mTrue\u001b[39;00m)\n",
      "File \u001b[1;32m~\\anaconda3\\Lib\\site-packages\\pandas\\core\\frame.py:3807\u001b[0m, in \u001b[0;36mDataFrame.__getitem__\u001b[1;34m(self, key)\u001b[0m\n\u001b[0;32m   3805\u001b[0m \u001b[38;5;28;01mif\u001b[39;00m \u001b[38;5;28mself\u001b[39m\u001b[38;5;241m.\u001b[39mcolumns\u001b[38;5;241m.\u001b[39mnlevels \u001b[38;5;241m>\u001b[39m \u001b[38;5;241m1\u001b[39m:\n\u001b[0;32m   3806\u001b[0m     \u001b[38;5;28;01mreturn\u001b[39;00m \u001b[38;5;28mself\u001b[39m\u001b[38;5;241m.\u001b[39m_getitem_multilevel(key)\n\u001b[1;32m-> 3807\u001b[0m indexer \u001b[38;5;241m=\u001b[39m \u001b[38;5;28mself\u001b[39m\u001b[38;5;241m.\u001b[39mcolumns\u001b[38;5;241m.\u001b[39mget_loc(key)\n\u001b[0;32m   3808\u001b[0m \u001b[38;5;28;01mif\u001b[39;00m is_integer(indexer):\n\u001b[0;32m   3809\u001b[0m     indexer \u001b[38;5;241m=\u001b[39m [indexer]\n",
      "File \u001b[1;32m~\\anaconda3\\Lib\\site-packages\\pandas\\core\\indexes\\base.py:3804\u001b[0m, in \u001b[0;36mIndex.get_loc\u001b[1;34m(self, key, method, tolerance)\u001b[0m\n\u001b[0;32m   3802\u001b[0m     \u001b[38;5;28;01mreturn\u001b[39;00m \u001b[38;5;28mself\u001b[39m\u001b[38;5;241m.\u001b[39m_engine\u001b[38;5;241m.\u001b[39mget_loc(casted_key)\n\u001b[0;32m   3803\u001b[0m \u001b[38;5;28;01mexcept\u001b[39;00m \u001b[38;5;167;01mKeyError\u001b[39;00m \u001b[38;5;28;01mas\u001b[39;00m err:\n\u001b[1;32m-> 3804\u001b[0m     \u001b[38;5;28;01mraise\u001b[39;00m \u001b[38;5;167;01mKeyError\u001b[39;00m(key) \u001b[38;5;28;01mfrom\u001b[39;00m \u001b[38;5;21;01merr\u001b[39;00m\n\u001b[0;32m   3805\u001b[0m \u001b[38;5;28;01mexcept\u001b[39;00m \u001b[38;5;167;01mTypeError\u001b[39;00m:\n\u001b[0;32m   3806\u001b[0m     \u001b[38;5;66;03m# If we have a listlike key, _check_indexing_error will raise\u001b[39;00m\n\u001b[0;32m   3807\u001b[0m     \u001b[38;5;66;03m#  InvalidIndexError. Otherwise we fall through and re-raise\u001b[39;00m\n\u001b[0;32m   3808\u001b[0m     \u001b[38;5;66;03m#  the TypeError.\u001b[39;00m\n\u001b[0;32m   3809\u001b[0m     \u001b[38;5;28mself\u001b[39m\u001b[38;5;241m.\u001b[39m_check_indexing_error(key)\n",
      "\u001b[1;31mKeyError\u001b[0m: 'Vit D Deficiency'"
     ]
    }
   ],
   "source": [
    "dfGDData['Vit D Deficiency'].fillna('NR',inplace=True)  \n",
    "dfGDData['Eclampsia'].fillna('NR',inplace=True)\n",
    "dfGDData['Pre eclampsia'].fillna('NR',inplace=True)"
   ]
  },
  {
   "cell_type": "code",
   "execution_count": null,
   "id": "59d063c7-99c2-4675-a14f-a0cd86e2f7ec",
   "metadata": {},
   "outputs": [],
   "source": []
  }
 ],
 "metadata": {
  "kernelspec": {
   "display_name": "Python 3 (ipykernel)",
   "language": "python",
   "name": "python3"
  },
  "language_info": {
   "codemirror_mode": {
    "name": "ipython",
    "version": 3
   },
   "file_extension": ".py",
   "mimetype": "text/x-python",
   "name": "python",
   "nbconvert_exporter": "python",
   "pygments_lexer": "ipython3",
   "version": "3.11.3"
  }
 },
 "nbformat": 4,
 "nbformat_minor": 5
}
